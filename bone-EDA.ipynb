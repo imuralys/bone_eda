{
 "cells": [
  {
   "cell_type": "code",
   "execution_count": 1,
   "id": "42598e31",
   "metadata": {
    "execution": {
     "iopub.execute_input": "2025-03-06T16:01:30.698752Z",
     "iopub.status.busy": "2025-03-06T16:01:30.698365Z",
     "iopub.status.idle": "2025-03-06T16:01:52.413425Z",
     "shell.execute_reply": "2025-03-06T16:01:52.412362Z"
    },
    "papermill": {
     "duration": 21.727057,
     "end_time": "2025-03-06T16:01:52.415260",
     "exception": false,
     "start_time": "2025-03-06T16:01:30.688203",
     "status": "completed"
    },
    "tags": []
   },
   "outputs": [],
   "source": [
    "# Ngan\n",
    "# Importing necessary libraries\n",
    "import os\n",
    "import cv2\n",
    "import numpy as np\n",
    "import pandas as pd\n",
    "import matplotlib.pyplot as plt\n",
    "import seaborn as sns\n",
    "\n",
    "# Deep learning frameworks\n",
    "import tensorflow as tf\n",
    "from tensorflow import keras\n",
    "from tensorflow.keras import layers\n",
    "from sklearn.model_selection import train_test_split\n",
    "from sklearn.metrics import classification_report, confusion_matrix\n",
    "\n",
    "import json\n",
    "from PIL import Image"
   ]
  },
  {
   "cell_type": "code",
   "execution_count": 2,
   "id": "8b29e562",
   "metadata": {
    "execution": {
     "iopub.execute_input": "2025-03-06T16:01:52.433663Z",
     "iopub.status.busy": "2025-03-06T16:01:52.432925Z",
     "iopub.status.idle": "2025-03-06T16:02:04.056274Z",
     "shell.execute_reply": "2025-03-06T16:02:04.054760Z"
    },
    "papermill": {
     "duration": 11.634674,
     "end_time": "2025-03-06T16:02:04.058317",
     "exception": false,
     "start_time": "2025-03-06T16:01:52.423643",
     "status": "completed"
    },
    "tags": []
   },
   "outputs": [],
   "source": [
    "#Import thử thoi đừng chạy nha (hân)\n",
    "import torch\n",
    "import torch.nn as nn\n",
    "import torch.optim as optim\n",
    "import torch.nn.functional as F\n",
    "import numpy as np\n",
    "import cv2\n",
    "import json\n",
    "import matplotlib.pyplot as plt\n",
    "from torchvision import transforms\n",
    "from torch.utils.data import Dataset, DataLoader\n",
    "import shutil\n",
    "import os\n",
    "import pandas as pd"
   ]
  },
  {
   "cell_type": "code",
   "execution_count": 5,
   "id": "422a5c95",
   "metadata": {},
   "outputs": [
    {
     "name": "stdout",
     "output_type": "stream",
     "text": [
      "File không tồn tại: btxrd_data/BTXRD/images/IMG000001.jpeg\n"
     ]
    }
   ],
   "source": [
    "# Định nghĩa đường dẫn đến file ảnh\n",
    "image_path = 'btxrd_data/BTXRD/images/IMG000001.jpeg'  # Thay đổi đường dẫn này theo vị trí thực tế của file\n",
    "\n",
    "# Kiểm tra và hiển thị ảnh\n",
    "if os.path.exists(image_path):\n",
    "    image = cv2.imread(image_path, cv2.IMREAD_GRAYSCALE)\n",
    "    if image is not None:\n",
    "        plt.imshow(image, cmap='gray')\n",
    "        plt.title('X-ray Image Example')\n",
    "        plt.axis('off')\n",
    "    else:\n",
    "        print(f\"Không thể đọc file ảnh: {image_path}\")\n",
    "else:\n",
    "    print(f\"File không tồn tại: {image_path}\")"
   ]
  },
  {
   "cell_type": "code",
   "execution_count": 5,
   "id": "0e0cda59",
   "metadata": {
    "execution": {
     "iopub.execute_input": "2025-03-06T16:02:04.076197Z",
     "iopub.status.busy": "2025-03-06T16:02:04.075523Z",
     "iopub.status.idle": "2025-03-06T16:02:04.936761Z",
     "shell.execute_reply": "2025-03-06T16:02:04.935185Z"
    },
    "papermill": {
     "duration": 0.872223,
     "end_time": "2025-03-06T16:02:04.938983",
     "exception": false,
     "start_time": "2025-03-06T16:02:04.066760",
     "status": "completed"
    },
    "tags": []
   },
   "outputs": [
    {
     "ename": "TypeError",
     "evalue": "Image data of dtype object cannot be converted to float",
     "output_type": "error",
     "traceback": [
      "\u001b[1;31m---------------------------------------------------------------------------\u001b[0m",
      "\u001b[1;31mTypeError\u001b[0m                                 Traceback (most recent call last)",
      "Cell \u001b[1;32mIn[5], line 13\u001b[0m\n\u001b[0;32m     10\u001b[0m image \u001b[38;5;241m=\u001b[39m cv2\u001b[38;5;241m.\u001b[39mimread(image_path, cv2\u001b[38;5;241m.\u001b[39mIMREAD_GRAYSCALE)\n\u001b[0;32m     12\u001b[0m \u001b[38;5;66;03m# Hiển thị hình ảnh bằng Matplotlib\u001b[39;00m\n\u001b[1;32m---> 13\u001b[0m \u001b[43mplt\u001b[49m\u001b[38;5;241;43m.\u001b[39;49m\u001b[43mimshow\u001b[49m\u001b[43m(\u001b[49m\u001b[43mimage\u001b[49m\u001b[43m,\u001b[49m\u001b[43m \u001b[49m\u001b[43mcmap\u001b[49m\u001b[38;5;241;43m=\u001b[39;49m\u001b[38;5;124;43m'\u001b[39;49m\u001b[38;5;124;43mgray\u001b[39;49m\u001b[38;5;124;43m'\u001b[39;49m\u001b[43m)\u001b[49m\n\u001b[0;32m     14\u001b[0m plt\u001b[38;5;241m.\u001b[39mtitle(\u001b[38;5;124m'\u001b[39m\u001b[38;5;124mX-ray Image Example\u001b[39m\u001b[38;5;124m'\u001b[39m)\n\u001b[0;32m     15\u001b[0m plt\u001b[38;5;241m.\u001b[39maxis(\u001b[38;5;124m'\u001b[39m\u001b[38;5;124moff\u001b[39m\u001b[38;5;124m'\u001b[39m)\n",
      "File \u001b[1;32mc:\\Users\\Alys\\anaconda3\\Lib\\site-packages\\matplotlib\\pyplot.py:3358\u001b[0m, in \u001b[0;36mimshow\u001b[1;34m(X, cmap, norm, aspect, interpolation, alpha, vmin, vmax, origin, extent, interpolation_stage, filternorm, filterrad, resample, url, data, **kwargs)\u001b[0m\n\u001b[0;32m   3337\u001b[0m \u001b[38;5;129m@_copy_docstring_and_deprecators\u001b[39m(Axes\u001b[38;5;241m.\u001b[39mimshow)\n\u001b[0;32m   3338\u001b[0m \u001b[38;5;28;01mdef\u001b[39;00m\u001b[38;5;250m \u001b[39m\u001b[38;5;21mimshow\u001b[39m(\n\u001b[0;32m   3339\u001b[0m     X: ArrayLike \u001b[38;5;241m|\u001b[39m PIL\u001b[38;5;241m.\u001b[39mImage\u001b[38;5;241m.\u001b[39mImage,\n\u001b[1;32m   (...)\u001b[0m\n\u001b[0;32m   3356\u001b[0m     \u001b[38;5;241m*\u001b[39m\u001b[38;5;241m*\u001b[39mkwargs,\n\u001b[0;32m   3357\u001b[0m ) \u001b[38;5;241m-\u001b[39m\u001b[38;5;241m>\u001b[39m AxesImage:\n\u001b[1;32m-> 3358\u001b[0m     __ret \u001b[38;5;241m=\u001b[39m \u001b[43mgca\u001b[49m\u001b[43m(\u001b[49m\u001b[43m)\u001b[49m\u001b[38;5;241;43m.\u001b[39;49m\u001b[43mimshow\u001b[49m\u001b[43m(\u001b[49m\n\u001b[0;32m   3359\u001b[0m \u001b[43m        \u001b[49m\u001b[43mX\u001b[49m\u001b[43m,\u001b[49m\n\u001b[0;32m   3360\u001b[0m \u001b[43m        \u001b[49m\u001b[43mcmap\u001b[49m\u001b[38;5;241;43m=\u001b[39;49m\u001b[43mcmap\u001b[49m\u001b[43m,\u001b[49m\n\u001b[0;32m   3361\u001b[0m \u001b[43m        \u001b[49m\u001b[43mnorm\u001b[49m\u001b[38;5;241;43m=\u001b[39;49m\u001b[43mnorm\u001b[49m\u001b[43m,\u001b[49m\n\u001b[0;32m   3362\u001b[0m \u001b[43m        \u001b[49m\u001b[43maspect\u001b[49m\u001b[38;5;241;43m=\u001b[39;49m\u001b[43maspect\u001b[49m\u001b[43m,\u001b[49m\n\u001b[0;32m   3363\u001b[0m \u001b[43m        \u001b[49m\u001b[43minterpolation\u001b[49m\u001b[38;5;241;43m=\u001b[39;49m\u001b[43minterpolation\u001b[49m\u001b[43m,\u001b[49m\n\u001b[0;32m   3364\u001b[0m \u001b[43m        \u001b[49m\u001b[43malpha\u001b[49m\u001b[38;5;241;43m=\u001b[39;49m\u001b[43malpha\u001b[49m\u001b[43m,\u001b[49m\n\u001b[0;32m   3365\u001b[0m \u001b[43m        \u001b[49m\u001b[43mvmin\u001b[49m\u001b[38;5;241;43m=\u001b[39;49m\u001b[43mvmin\u001b[49m\u001b[43m,\u001b[49m\n\u001b[0;32m   3366\u001b[0m \u001b[43m        \u001b[49m\u001b[43mvmax\u001b[49m\u001b[38;5;241;43m=\u001b[39;49m\u001b[43mvmax\u001b[49m\u001b[43m,\u001b[49m\n\u001b[0;32m   3367\u001b[0m \u001b[43m        \u001b[49m\u001b[43morigin\u001b[49m\u001b[38;5;241;43m=\u001b[39;49m\u001b[43morigin\u001b[49m\u001b[43m,\u001b[49m\n\u001b[0;32m   3368\u001b[0m \u001b[43m        \u001b[49m\u001b[43mextent\u001b[49m\u001b[38;5;241;43m=\u001b[39;49m\u001b[43mextent\u001b[49m\u001b[43m,\u001b[49m\n\u001b[0;32m   3369\u001b[0m \u001b[43m        \u001b[49m\u001b[43minterpolation_stage\u001b[49m\u001b[38;5;241;43m=\u001b[39;49m\u001b[43minterpolation_stage\u001b[49m\u001b[43m,\u001b[49m\n\u001b[0;32m   3370\u001b[0m \u001b[43m        \u001b[49m\u001b[43mfilternorm\u001b[49m\u001b[38;5;241;43m=\u001b[39;49m\u001b[43mfilternorm\u001b[49m\u001b[43m,\u001b[49m\n\u001b[0;32m   3371\u001b[0m \u001b[43m        \u001b[49m\u001b[43mfilterrad\u001b[49m\u001b[38;5;241;43m=\u001b[39;49m\u001b[43mfilterrad\u001b[49m\u001b[43m,\u001b[49m\n\u001b[0;32m   3372\u001b[0m \u001b[43m        \u001b[49m\u001b[43mresample\u001b[49m\u001b[38;5;241;43m=\u001b[39;49m\u001b[43mresample\u001b[49m\u001b[43m,\u001b[49m\n\u001b[0;32m   3373\u001b[0m \u001b[43m        \u001b[49m\u001b[43murl\u001b[49m\u001b[38;5;241;43m=\u001b[39;49m\u001b[43murl\u001b[49m\u001b[43m,\u001b[49m\n\u001b[0;32m   3374\u001b[0m \u001b[43m        \u001b[49m\u001b[38;5;241;43m*\u001b[39;49m\u001b[38;5;241;43m*\u001b[39;49m\u001b[43m(\u001b[49m\u001b[43m{\u001b[49m\u001b[38;5;124;43m\"\u001b[39;49m\u001b[38;5;124;43mdata\u001b[39;49m\u001b[38;5;124;43m\"\u001b[39;49m\u001b[43m:\u001b[49m\u001b[43m \u001b[49m\u001b[43mdata\u001b[49m\u001b[43m}\u001b[49m\u001b[43m \u001b[49m\u001b[38;5;28;43;01mif\u001b[39;49;00m\u001b[43m \u001b[49m\u001b[43mdata\u001b[49m\u001b[43m \u001b[49m\u001b[38;5;129;43;01mis\u001b[39;49;00m\u001b[43m \u001b[49m\u001b[38;5;129;43;01mnot\u001b[39;49;00m\u001b[43m \u001b[49m\u001b[38;5;28;43;01mNone\u001b[39;49;00m\u001b[43m \u001b[49m\u001b[38;5;28;43;01melse\u001b[39;49;00m\u001b[43m \u001b[49m\u001b[43m{\u001b[49m\u001b[43m}\u001b[49m\u001b[43m)\u001b[49m\u001b[43m,\u001b[49m\n\u001b[0;32m   3375\u001b[0m \u001b[43m        \u001b[49m\u001b[38;5;241;43m*\u001b[39;49m\u001b[38;5;241;43m*\u001b[39;49m\u001b[43mkwargs\u001b[49m\u001b[43m,\u001b[49m\n\u001b[0;32m   3376\u001b[0m \u001b[43m    \u001b[49m\u001b[43m)\u001b[49m\n\u001b[0;32m   3377\u001b[0m     sci(__ret)\n\u001b[0;32m   3378\u001b[0m     \u001b[38;5;28;01mreturn\u001b[39;00m __ret\n",
      "File \u001b[1;32mc:\\Users\\Alys\\anaconda3\\Lib\\site-packages\\matplotlib\\__init__.py:1465\u001b[0m, in \u001b[0;36m_preprocess_data.<locals>.inner\u001b[1;34m(ax, data, *args, **kwargs)\u001b[0m\n\u001b[0;32m   1462\u001b[0m \u001b[38;5;129m@functools\u001b[39m\u001b[38;5;241m.\u001b[39mwraps(func)\n\u001b[0;32m   1463\u001b[0m \u001b[38;5;28;01mdef\u001b[39;00m\u001b[38;5;250m \u001b[39m\u001b[38;5;21minner\u001b[39m(ax, \u001b[38;5;241m*\u001b[39margs, data\u001b[38;5;241m=\u001b[39m\u001b[38;5;28;01mNone\u001b[39;00m, \u001b[38;5;241m*\u001b[39m\u001b[38;5;241m*\u001b[39mkwargs):\n\u001b[0;32m   1464\u001b[0m     \u001b[38;5;28;01mif\u001b[39;00m data \u001b[38;5;129;01mis\u001b[39;00m \u001b[38;5;28;01mNone\u001b[39;00m:\n\u001b[1;32m-> 1465\u001b[0m         \u001b[38;5;28;01mreturn\u001b[39;00m \u001b[43mfunc\u001b[49m\u001b[43m(\u001b[49m\u001b[43max\u001b[49m\u001b[43m,\u001b[49m\u001b[43m \u001b[49m\u001b[38;5;241;43m*\u001b[39;49m\u001b[38;5;28;43mmap\u001b[39;49m\u001b[43m(\u001b[49m\u001b[43msanitize_sequence\u001b[49m\u001b[43m,\u001b[49m\u001b[43m \u001b[49m\u001b[43margs\u001b[49m\u001b[43m)\u001b[49m\u001b[43m,\u001b[49m\u001b[43m \u001b[49m\u001b[38;5;241;43m*\u001b[39;49m\u001b[38;5;241;43m*\u001b[39;49m\u001b[43mkwargs\u001b[49m\u001b[43m)\u001b[49m\n\u001b[0;32m   1467\u001b[0m     bound \u001b[38;5;241m=\u001b[39m new_sig\u001b[38;5;241m.\u001b[39mbind(ax, \u001b[38;5;241m*\u001b[39margs, \u001b[38;5;241m*\u001b[39m\u001b[38;5;241m*\u001b[39mkwargs)\n\u001b[0;32m   1468\u001b[0m     auto_label \u001b[38;5;241m=\u001b[39m (bound\u001b[38;5;241m.\u001b[39marguments\u001b[38;5;241m.\u001b[39mget(label_namer)\n\u001b[0;32m   1469\u001b[0m                   \u001b[38;5;129;01mor\u001b[39;00m bound\u001b[38;5;241m.\u001b[39mkwargs\u001b[38;5;241m.\u001b[39mget(label_namer))\n",
      "File \u001b[1;32mc:\\Users\\Alys\\anaconda3\\Lib\\site-packages\\matplotlib\\axes\\_axes.py:5759\u001b[0m, in \u001b[0;36mAxes.imshow\u001b[1;34m(self, X, cmap, norm, aspect, interpolation, alpha, vmin, vmax, origin, extent, interpolation_stage, filternorm, filterrad, resample, url, **kwargs)\u001b[0m\n\u001b[0;32m   5756\u001b[0m \u001b[38;5;28;01mif\u001b[39;00m aspect \u001b[38;5;129;01mis\u001b[39;00m \u001b[38;5;129;01mnot\u001b[39;00m \u001b[38;5;28;01mNone\u001b[39;00m:\n\u001b[0;32m   5757\u001b[0m     \u001b[38;5;28mself\u001b[39m\u001b[38;5;241m.\u001b[39mset_aspect(aspect)\n\u001b[1;32m-> 5759\u001b[0m \u001b[43mim\u001b[49m\u001b[38;5;241;43m.\u001b[39;49m\u001b[43mset_data\u001b[49m\u001b[43m(\u001b[49m\u001b[43mX\u001b[49m\u001b[43m)\u001b[49m\n\u001b[0;32m   5760\u001b[0m im\u001b[38;5;241m.\u001b[39mset_alpha(alpha)\n\u001b[0;32m   5761\u001b[0m \u001b[38;5;28;01mif\u001b[39;00m im\u001b[38;5;241m.\u001b[39mget_clip_path() \u001b[38;5;129;01mis\u001b[39;00m \u001b[38;5;28;01mNone\u001b[39;00m:\n\u001b[0;32m   5762\u001b[0m     \u001b[38;5;66;03m# image does not already have clipping set, clip to axes patch\u001b[39;00m\n",
      "File \u001b[1;32mc:\\Users\\Alys\\anaconda3\\Lib\\site-packages\\matplotlib\\image.py:723\u001b[0m, in \u001b[0;36m_ImageBase.set_data\u001b[1;34m(self, A)\u001b[0m\n\u001b[0;32m    721\u001b[0m \u001b[38;5;28;01mif\u001b[39;00m \u001b[38;5;28misinstance\u001b[39m(A, PIL\u001b[38;5;241m.\u001b[39mImage\u001b[38;5;241m.\u001b[39mImage):\n\u001b[0;32m    722\u001b[0m     A \u001b[38;5;241m=\u001b[39m pil_to_array(A)  \u001b[38;5;66;03m# Needed e.g. to apply png palette.\u001b[39;00m\n\u001b[1;32m--> 723\u001b[0m \u001b[38;5;28mself\u001b[39m\u001b[38;5;241m.\u001b[39m_A \u001b[38;5;241m=\u001b[39m \u001b[38;5;28;43mself\u001b[39;49m\u001b[38;5;241;43m.\u001b[39;49m\u001b[43m_normalize_image_array\u001b[49m\u001b[43m(\u001b[49m\u001b[43mA\u001b[49m\u001b[43m)\u001b[49m\n\u001b[0;32m    724\u001b[0m \u001b[38;5;28mself\u001b[39m\u001b[38;5;241m.\u001b[39m_imcache \u001b[38;5;241m=\u001b[39m \u001b[38;5;28;01mNone\u001b[39;00m\n\u001b[0;32m    725\u001b[0m \u001b[38;5;28mself\u001b[39m\u001b[38;5;241m.\u001b[39mstale \u001b[38;5;241m=\u001b[39m \u001b[38;5;28;01mTrue\u001b[39;00m\n",
      "File \u001b[1;32mc:\\Users\\Alys\\anaconda3\\Lib\\site-packages\\matplotlib\\image.py:688\u001b[0m, in \u001b[0;36m_ImageBase._normalize_image_array\u001b[1;34m(A)\u001b[0m\n\u001b[0;32m    686\u001b[0m A \u001b[38;5;241m=\u001b[39m cbook\u001b[38;5;241m.\u001b[39msafe_masked_invalid(A, copy\u001b[38;5;241m=\u001b[39m\u001b[38;5;28;01mTrue\u001b[39;00m)\n\u001b[0;32m    687\u001b[0m \u001b[38;5;28;01mif\u001b[39;00m A\u001b[38;5;241m.\u001b[39mdtype \u001b[38;5;241m!=\u001b[39m np\u001b[38;5;241m.\u001b[39muint8 \u001b[38;5;129;01mand\u001b[39;00m \u001b[38;5;129;01mnot\u001b[39;00m np\u001b[38;5;241m.\u001b[39mcan_cast(A\u001b[38;5;241m.\u001b[39mdtype, \u001b[38;5;28mfloat\u001b[39m, \u001b[38;5;124m\"\u001b[39m\u001b[38;5;124msame_kind\u001b[39m\u001b[38;5;124m\"\u001b[39m):\n\u001b[1;32m--> 688\u001b[0m     \u001b[38;5;28;01mraise\u001b[39;00m \u001b[38;5;167;01mTypeError\u001b[39;00m(\u001b[38;5;124mf\u001b[39m\u001b[38;5;124m\"\u001b[39m\u001b[38;5;124mImage data of dtype \u001b[39m\u001b[38;5;132;01m{\u001b[39;00mA\u001b[38;5;241m.\u001b[39mdtype\u001b[38;5;132;01m}\u001b[39;00m\u001b[38;5;124m cannot be \u001b[39m\u001b[38;5;124m\"\u001b[39m\n\u001b[0;32m    689\u001b[0m                     \u001b[38;5;124mf\u001b[39m\u001b[38;5;124m\"\u001b[39m\u001b[38;5;124mconverted to float\u001b[39m\u001b[38;5;124m\"\u001b[39m)\n\u001b[0;32m    690\u001b[0m \u001b[38;5;28;01mif\u001b[39;00m A\u001b[38;5;241m.\u001b[39mndim \u001b[38;5;241m==\u001b[39m \u001b[38;5;241m3\u001b[39m \u001b[38;5;129;01mand\u001b[39;00m A\u001b[38;5;241m.\u001b[39mshape[\u001b[38;5;241m-\u001b[39m\u001b[38;5;241m1\u001b[39m] \u001b[38;5;241m==\u001b[39m \u001b[38;5;241m1\u001b[39m:\n\u001b[0;32m    691\u001b[0m     A \u001b[38;5;241m=\u001b[39m A\u001b[38;5;241m.\u001b[39msqueeze(\u001b[38;5;241m-\u001b[39m\u001b[38;5;241m1\u001b[39m)  \u001b[38;5;66;03m# If just (M, N, 1), assume scalar and apply colormap.\u001b[39;00m\n",
      "\u001b[1;31mTypeError\u001b[0m: Image data of dtype object cannot be converted to float"
     ]
    },
    {
     "data": {
      "image/png": "[encoded data removed]",
      "text/plain": [
       "<Figure size 640x480 with 1 Axes>"
      ]
     },
     "metadata": {},
     "output_type": "display_data"
    }
   ],
   "source": [
    "# Ngan\n",
    "# đọc 1 ảnh\n",
    "import cv2\n",
    "import matplotlib.pyplot as plt\n",
    "\n",
    "# Đường dẫn tới hình ảnh trong thư mục dataset\n",
    "image_path = '/kaggle/input/btxrd-data/BTXRD/images/IMG000001.jpeg'\n",
    "\n",
    "# Đọc hình ảnh bằng OpenCV\n",
    "image = cv2.imread(image_path, cv2.IMREAD_GRAYSCALE)\n",
    "\n",
    "# Hiển thị hình ảnh bằng Matplotlib\n",
    "plt.imshow(image, cmap='gray')\n",
    "plt.title('X-ray Image Example')\n",
    "plt.axis('off')\n",
    "plt.show()\n"
   ]
  },
  {
   "cell_type": "markdown",
   "id": "dd09ed84",
   "metadata": {
    "papermill": {
     "duration": 0.011281,
     "end_time": "2025-03-06T16:02:04.962630",
     "exception": false,
     "start_time": "2025-03-06T16:02:04.951349",
     "status": "completed"
    },
    "tags": []
   },
   "source": [
    "# **Dùng EDA** "
   ]
  },
  {
   "cell_type": "code",
   "execution_count": 4,
   "id": "adf9378a",
   "metadata": {
    "execution": {
     "iopub.execute_input": "2025-03-06T16:02:04.987689Z",
     "iopub.status.busy": "2025-03-06T16:02:04.987269Z",
     "iopub.status.idle": "2025-03-06T16:02:05.083873Z",
     "shell.execute_reply": "2025-03-06T16:02:05.082618Z"
    },
    "papermill": {
     "duration": 0.111505,
     "end_time": "2025-03-06T16:02:05.085712",
     "exception": false,
     "start_time": "2025-03-06T16:02:04.974207",
     "status": "completed"
    },
    "tags": []
   },
   "outputs": [
    {
     "name": "stdout",
     "output_type": "stream",
     "text": [
      "  version                                             shapes       imagePath  \\\n",
      "0   5.4.1  [{'label': 'multiple osteochondromas', 'points...  IMG000966.jpeg   \n",
      "1   5.4.1  [{'label': 'other bt', 'points': [[102.9999999...  IMG001116.jpeg   \n",
      "2   5.4.1  [{'label': 'giant cell tumor', 'points': [[261...  IMG000811.jpeg   \n",
      "3   5.4.1  [{'label': 'osteochondroma', 'points': [[737.3...  IMG000486.jpeg   \n",
      "4   5.4.1  [{'label': 'multiple osteochondromas', 'points...  IMG000397.jpeg   \n",
      "\n",
      "  imageData  imageHeight  imageWidth  \n",
      "0      None         2345        1168  \n",
      "1      None         2773        2306  \n",
      "2      None          770         535  \n",
      "3      None         2240        1845  \n",
      "4      None         1258         539  \n"
     ]
    }
   ],
   "source": [
    "# Ngan\n",
    "# Đọc dữ liệu 5 tệp JSON đầu tiên để kiểm tra thông tin annotation\n",
    "\n",
    "annotation_dir = '/kaggle/input/btxrd-data/BTXRD/Annotations'\n",
    "\n",
    "json_files = [f for f in os.listdir(annotation_dir) if f.endswith(\".json\")]\n",
    "\n",
    "# Đọc dữ liệu từ 5 file JSON đầu tiên\n",
    "annotations = []\n",
    "for json_file in json_files[:5]: \n",
    "    json_path = os.path.join(annotation_dir, json_file)\n",
    "    with open(json_path, 'r') as f:\n",
    "        data = json.load(f)\n",
    "        annotations.append(data)\n",
    "\n",
    "# Chuyển dữ liệu JSON thành DataFrame\n",
    "df = pd.json_normalize(annotations)\n",
    "print(df.head())\n",
    "\n"
   ]
  },
  {
   "cell_type": "code",
   "execution_count": 5,
   "id": "334df4df",
   "metadata": {
    "collapsed": true,
    "execution": {
     "iopub.execute_input": "2025-03-06T16:02:05.111232Z",
     "iopub.status.busy": "2025-03-06T16:02:05.110734Z",
     "iopub.status.idle": "2025-03-06T16:02:07.852381Z",
     "shell.execute_reply": "2025-03-06T16:02:07.850993Z"
    },
    "jupyter": {
     "outputs_hidden": true
    },
    "papermill": {
     "duration": 2.756947,
     "end_time": "2025-03-06T16:02:07.854260",
     "exception": false,
     "start_time": "2025-03-06T16:02:05.097313",
     "status": "completed"
    },
    "tags": []
   },
   "outputs": [
    {
     "name": "stdout",
     "output_type": "stream",
     "text": [
      "            image_id  center  age gender  hand  ulna  radius  humerus  foot  \\\n",
      "0     IMG000001.jpeg       1   48      F     0     0       0        0     0   \n",
      "1     IMG000002.jpeg       1   12      M     0     0       0        0     0   \n",
      "2     IMG000003.jpeg       1   12      M     0     0       0        0     0   \n",
      "3     IMG000004.jpeg       1   52      M     0     0       0        0     1   \n",
      "4     IMG000005.jpeg       1   52      M     0     0       0        0     1   \n",
      "...              ...     ...  ...    ...   ...   ...     ...      ...   ...   \n",
      "3741   IMG003742.jpg       3   55      M     0     0       0        0     0   \n",
      "3742   IMG003743.jpg       3   55      M     0     0       0        0     0   \n",
      "3743   IMG003744.jpg       3   55      M     0     0       0        0     0   \n",
      "3744   IMG003745.jpg       3    8      M     0     0       0        0     0   \n",
      "3745   IMG003746.jpg       3    8      M     0     0       0        0     0   \n",
      "\n",
      "      tibia  ...  synovial osteochondroma  other bt  osteosarcoma  other mt  \\\n",
      "0         0  ...                        0         0             0         1   \n",
      "1         1  ...                        0         0             1         0   \n",
      "2         1  ...                        0         0             1         0   \n",
      "3         0  ...                        0         0             1         0   \n",
      "4         0  ...                        0         0             1         0   \n",
      "...     ...  ...                      ...       ...           ...       ...   \n",
      "3741      0  ...                        0         0             0         0   \n",
      "3742      0  ...                        0         0             0         0   \n",
      "3743      0  ...                        0         0             0         0   \n",
      "3744      0  ...                        0         0             0         0   \n",
      "3745      0  ...                        0         0             0         0   \n",
      "\n",
      "      upper limb  lower limb  pelvis  frontal  lateral  oblique  \n",
      "0              0           0       1        1        0        0  \n",
      "1              0           1       0        1        0        0  \n",
      "2              0           1       0        0        1        0  \n",
      "3              0           1       0        1        0        0  \n",
      "4              0           1       0        0        0        1  \n",
      "...          ...         ...     ...      ...      ...      ...  \n",
      "3741           0           1       0        0        1        0  \n",
      "3742           0           1       0        1        0        0  \n",
      "3743           0           1       0        1        0        0  \n",
      "3744           0           1       0        0        1        0  \n",
      "3745           0           1       0        1        0        0  \n",
      "\n",
      "[3746 rows x 37 columns]\n"
     ]
    }
   ],
   "source": [
    "# Han\n",
    "# đọc 5 dòng đầu file excel \n",
    "path = \"/kaggle/input/btxrd-data/BTXRD/\"\n",
    "df = pd.read_excel(path+\"dataset.xlsx\", engine=\"openpyxl\")\n",
    "print(df)\n",
    "\n",
    "# trong file excel bao gồm thông tin của ảnh, bệnh nhân, \n",
    "# vị trí xương, thông tin về khối u (có khối u không, lành tính hay ác tính)\n",
    "# hệ xương phụ (Appendicular Skeleton gồm xương chi trên, chi dưới và xương chậu)\n",
    "# và hướng chụp"
   ]
  },
  {
   "cell_type": "code",
   "execution_count": 6,
   "id": "110f971b",
   "metadata": {
    "execution": {
     "iopub.execute_input": "2025-03-06T16:02:07.879121Z",
     "iopub.status.busy": "2025-03-06T16:02:07.878486Z",
     "iopub.status.idle": "2025-03-06T16:02:07.946259Z",
     "shell.execute_reply": "2025-03-06T16:02:07.944626Z"
    },
    "papermill": {
     "duration": 0.081923,
     "end_time": "2025-03-06T16:02:07.947800",
     "exception": true,
     "start_time": "2025-03-06T16:02:07.865877",
     "status": "failed"
    },
    "tags": []
   },
   "outputs": [
    {
     "ename": "KeyError",
     "evalue": "\"['neoplasm'] not in index\"",
     "output_type": "error",
     "traceback": [
      "\u001b[0;31m---------------------------------------------------------------------------\u001b[0m",
      "\u001b[0;31mKeyError\u001b[0m                                  Traceback (most recent call last)",
      "\u001b[0;32m<ipython-input-6-dc20e83d71d4>\u001b[0m in \u001b[0;36m<cell line: 3>\u001b[0;34m()\u001b[0m\n\u001b[1;32m      1\u001b[0m \u001b[0;31m# Han\u001b[0m\u001b[0;34m\u001b[0m\u001b[0;34m\u001b[0m\u001b[0m\n\u001b[1;32m      2\u001b[0m \u001b[0;31m# hiển thị một số cột trong file dataset\u001b[0m\u001b[0;34m\u001b[0m\u001b[0;34m\u001b[0m\u001b[0m\n\u001b[0;32m----> 3\u001b[0;31m \u001b[0mprint\u001b[0m\u001b[0;34m(\u001b[0m\u001b[0mdf\u001b[0m\u001b[0;34m[\u001b[0m\u001b[0;34m[\u001b[0m \u001b[0;34m'image_id'\u001b[0m\u001b[0;34m,\u001b[0m\u001b[0;34m'center'\u001b[0m\u001b[0;34m,\u001b[0m\u001b[0;34m'age'\u001b[0m\u001b[0;34m,\u001b[0m\u001b[0;34m'gender'\u001b[0m\u001b[0;34m,\u001b[0m\u001b[0;34m'neoplasm'\u001b[0m \u001b[0;34m]\u001b[0m\u001b[0;34m]\u001b[0m\u001b[0;34m)\u001b[0m\u001b[0;34m\u001b[0m\u001b[0;34m\u001b[0m\u001b[0m\n\u001b[0m",
      "\u001b[0;32m/usr/local/lib/python3.10/dist-packages/pandas/core/frame.py\u001b[0m in \u001b[0;36m__getitem__\u001b[0;34m(self, key)\u001b[0m\n\u001b[1;32m   4106\u001b[0m             \u001b[0;32mif\u001b[0m \u001b[0mis_iterator\u001b[0m\u001b[0;34m(\u001b[0m\u001b[0mkey\u001b[0m\u001b[0;34m)\u001b[0m\u001b[0;34m:\u001b[0m\u001b[0;34m\u001b[0m\u001b[0;34m\u001b[0m\u001b[0m\n\u001b[1;32m   4107\u001b[0m                 \u001b[0mkey\u001b[0m \u001b[0;34m=\u001b[0m \u001b[0mlist\u001b[0m\u001b[0;34m(\u001b[0m\u001b[0mkey\u001b[0m\u001b[0;34m)\u001b[0m\u001b[0;34m\u001b[0m\u001b[0;34m\u001b[0m\u001b[0m\n\u001b[0;32m-> 4108\u001b[0;31m             \u001b[0mindexer\u001b[0m \u001b[0;34m=\u001b[0m \u001b[0mself\u001b[0m\u001b[0;34m.\u001b[0m\u001b[0mcolumns\u001b[0m\u001b[0;34m.\u001b[0m\u001b[0m_get_indexer_strict\u001b[0m\u001b[0;34m(\u001b[0m\u001b[0mkey\u001b[0m\u001b[0;34m,\u001b[0m \u001b[0;34m\"columns\"\u001b[0m\u001b[0;34m)\u001b[0m\u001b[0;34m[\u001b[0m\u001b[0;36m1\u001b[0m\u001b[0;34m]\u001b[0m\u001b[0;34m\u001b[0m\u001b[0;34m\u001b[0m\u001b[0m\n\u001b[0m\u001b[1;32m   4109\u001b[0m \u001b[0;34m\u001b[0m\u001b[0m\n\u001b[1;32m   4110\u001b[0m         \u001b[0;31m# take() does not accept boolean indexers\u001b[0m\u001b[0;34m\u001b[0m\u001b[0;34m\u001b[0m\u001b[0m\n",
      "\u001b[0;32m/usr/local/lib/python3.10/dist-packages/pandas/core/indexes/base.py\u001b[0m in \u001b[0;36m_get_indexer_strict\u001b[0;34m(self, key, axis_name)\u001b[0m\n\u001b[1;32m   6198\u001b[0m             \u001b[0mkeyarr\u001b[0m\u001b[0;34m,\u001b[0m \u001b[0mindexer\u001b[0m\u001b[0;34m,\u001b[0m \u001b[0mnew_indexer\u001b[0m \u001b[0;34m=\u001b[0m \u001b[0mself\u001b[0m\u001b[0;34m.\u001b[0m\u001b[0m_reindex_non_unique\u001b[0m\u001b[0;34m(\u001b[0m\u001b[0mkeyarr\u001b[0m\u001b[0;34m)\u001b[0m\u001b[0;34m\u001b[0m\u001b[0;34m\u001b[0m\u001b[0m\n\u001b[1;32m   6199\u001b[0m \u001b[0;34m\u001b[0m\u001b[0m\n\u001b[0;32m-> 6200\u001b[0;31m         \u001b[0mself\u001b[0m\u001b[0;34m.\u001b[0m\u001b[0m_raise_if_missing\u001b[0m\u001b[0;34m(\u001b[0m\u001b[0mkeyarr\u001b[0m\u001b[0;34m,\u001b[0m \u001b[0mindexer\u001b[0m\u001b[0;34m,\u001b[0m \u001b[0maxis_name\u001b[0m\u001b[0;34m)\u001b[0m\u001b[0;34m\u001b[0m\u001b[0;34m\u001b[0m\u001b[0m\n\u001b[0m\u001b[1;32m   6201\u001b[0m \u001b[0;34m\u001b[0m\u001b[0m\n\u001b[1;32m   6202\u001b[0m         \u001b[0mkeyarr\u001b[0m \u001b[0;34m=\u001b[0m \u001b[0mself\u001b[0m\u001b[0;34m.\u001b[0m\u001b[0mtake\u001b[0m\u001b[0;34m(\u001b[0m\u001b[0mindexer\u001b[0m\u001b[0;34m)\u001b[0m\u001b[0;34m\u001b[0m\u001b[0;34m\u001b[0m\u001b[0m\n",
      "\u001b[0;32m/usr/local/lib/python3.10/dist-packages/pandas/core/indexes/base.py\u001b[0m in \u001b[0;36m_raise_if_missing\u001b[0;34m(self, key, indexer, axis_name)\u001b[0m\n\u001b[1;32m   6250\u001b[0m \u001b[0;34m\u001b[0m\u001b[0m\n\u001b[1;32m   6251\u001b[0m             \u001b[0mnot_found\u001b[0m \u001b[0;34m=\u001b[0m \u001b[0mlist\u001b[0m\u001b[0;34m(\u001b[0m\u001b[0mensure_index\u001b[0m\u001b[0;34m(\u001b[0m\u001b[0mkey\u001b[0m\u001b[0;34m)\u001b[0m\u001b[0;34m[\u001b[0m\u001b[0mmissing_mask\u001b[0m\u001b[0;34m.\u001b[0m\u001b[0mnonzero\u001b[0m\u001b[0;34m(\u001b[0m\u001b[0;34m)\u001b[0m\u001b[0;34m[\u001b[0m\u001b[0;36m0\u001b[0m\u001b[0;34m]\u001b[0m\u001b[0;34m]\u001b[0m\u001b[0;34m.\u001b[0m\u001b[0munique\u001b[0m\u001b[0;34m(\u001b[0m\u001b[0;34m)\u001b[0m\u001b[0;34m)\u001b[0m\u001b[0;34m\u001b[0m\u001b[0;34m\u001b[0m\u001b[0m\n\u001b[0;32m-> 6252\u001b[0;31m             \u001b[0;32mraise\u001b[0m \u001b[0mKeyError\u001b[0m\u001b[0;34m(\u001b[0m\u001b[0;34mf\"{not_found} not in index\"\u001b[0m\u001b[0;34m)\u001b[0m\u001b[0;34m\u001b[0m\u001b[0;34m\u001b[0m\u001b[0m\n\u001b[0m\u001b[1;32m   6253\u001b[0m \u001b[0;34m\u001b[0m\u001b[0m\n\u001b[1;32m   6254\u001b[0m     \u001b[0;34m@\u001b[0m\u001b[0moverload\u001b[0m\u001b[0;34m\u001b[0m\u001b[0;34m\u001b[0m\u001b[0m\n",
      "\u001b[0;31mKeyError\u001b[0m: \"['neoplasm'] not in index\""
     ]
    }
   ],
   "source": [
    "# Han\n",
    "# hiển thị một số cột trong file dataset\n",
    "print(df[[ 'image_id','center','age','gender','neoplasm' ]])"
   ]
  },
  {
   "cell_type": "code",
   "execution_count": null,
   "id": "a79108d4",
   "metadata": {
    "execution": {
     "iopub.execute_input": "2025-03-06T12:46:36.283184Z",
     "iopub.status.busy": "2025-03-06T12:46:36.282790Z",
     "iopub.status.idle": "2025-03-06T12:48:02.943440Z",
     "shell.execute_reply": "2025-03-06T12:48:02.942361Z",
     "shell.execute_reply.started": "2025-03-06T12:46:36.283157Z"
    },
    "papermill": {
     "duration": null,
     "end_time": null,
     "exception": null,
     "start_time": null,
     "status": "pending"
    },
    "tags": []
   },
   "outputs": [],
   "source": [
    "# Ngan\n",
    "# Kiểm tra số lượng ảnh có trong dataset\n",
    "import os\n",
    "import json\n",
    "import cv2\n",
    "import numpy as np\n",
    "import pandas as pd\n",
    "from tqdm import tqdm  # Thêm tqdm để hiển thị tiến độ\n",
    "import matplotlib.pyplot as plt\n",
    "\n",
    "# Thư mục chứa dữ liệu\n",
    "image_dir = '/kaggle/input/btxrd-data/BTXRD/images'\n",
    "annotation_dir = '/kaggle/input/btxrd-data/BTXRD/Annotations'\n",
    "\n",
    "# Kích thước ảnh chuẩn hóa\n",
    "IMG_SIZE = 224\n",
    "\n",
    "# Tạo danh sách lưu dữ liệu và nhãn\n",
    "images = []\n",
    "labels = []\n",
    "\n",
    "# Duyệt qua các file JSON và đọc ảnh, nhãn với thanh tiến trình\n",
    "for json_file in tqdm(os.listdir(annotation_dir), desc=\"Đang xử lý ảnh\", unit=\"ảnh\"):\n",
    "    json_path = os.path.join(annotation_dir, json_file)\n",
    "    with open(json_path, 'r') as f:\n",
    "        data = json.load(f)\n",
    "        \n",
    "        # Lấy đường dẫn ảnh tương ứng\n",
    "        image_filename = data['imagePath']\n",
    "        image_path = os.path.join(image_dir, image_filename)\n",
    "        \n",
    "        # Đọc và tiền xử lý ảnh\n",
    "        image = cv2.imread(image_path, cv2.IMREAD_GRAYSCALE)\n",
    "        if image is not None:\n",
    "            image = cv2.resize(image, (IMG_SIZE, IMG_SIZE))\n",
    "            image = image / 255.0  # Chuẩn hóa ảnh\n",
    "            images.append(image)\n",
    "            \n",
    "            # Lấy nhãn từ file JSON\n",
    "            if 'shapes' in data and len(data['shapes']) > 0:\n",
    "                label = data['shapes'][0]['label']\n",
    "                labels.append(label)\n",
    "\n",
    "# Chuyển đổi dữ liệu về numpy array\n",
    "images = np.array(images).reshape(-1, IMG_SIZE, IMG_SIZE, 1)\n",
    "labels = np.array(labels)\n",
    "\n",
    "# Kiểm tra số lượng ảnh và nhãn\n",
    "print(f'\\nTổng số ảnh: {len(images)}, Tổng số nhãn: {len(labels)}')\n"
   ]
  },
  {
   "cell_type": "code",
   "execution_count": null,
   "id": "c96c4e8f",
   "metadata": {
    "execution": {
     "iopub.execute_input": "2025-03-06T12:51:07.248840Z",
     "iopub.status.busy": "2025-03-06T12:51:07.248446Z",
     "iopub.status.idle": "2025-03-06T12:51:09.934374Z",
     "shell.execute_reply": "2025-03-06T12:51:09.933287Z",
     "shell.execute_reply.started": "2025-03-06T12:51:07.248809Z"
    },
    "papermill": {
     "duration": null,
     "end_time": null,
     "exception": null,
     "start_time": null,
     "status": "pending"
    },
    "tags": []
   },
   "outputs": [],
   "source": [
    "# Ngan\n",
    "# Đọc và hiển thị 5 hình ảnh đầu tiên\n",
    "import os\n",
    "import cv2\n",
    "import matplotlib.pyplot as plt\n",
    "\n",
    "# Thư mục chứa hình ảnh\n",
    "image_dir = '/kaggle/input/btxrd-data/BTXRD/images'\n",
    "\n",
    "# Lấy danh sách file ảnh hợp lệ\n",
    "image_files = sorted([f for f in os.listdir(image_dir) if f.lower().endswith(('.png', '.jpg', '.jpeg'))])\n",
    "\n",
    "# Kiểm tra nếu thư mục không có ảnh\n",
    "if len(image_files) == 0:\n",
    "    print(\"Không tìm thấy ảnh trong thư mục!\")\n",
    "else:\n",
    "    # Đọc và hiển thị 5 hình ảnh đầu tiên\n",
    "    plt.figure(figsize=(15, 5))\n",
    "\n",
    "    for i, image_file in enumerate(image_files[:5]):  \n",
    "        image_path = os.path.join(image_dir, image_file)\n",
    "        image = cv2.imread(image_path, cv2.IMREAD_GRAYSCALE)\n",
    "\n",
    "        if image is not None:  # Kiểm tra ảnh có đọc được không\n",
    "            plt.subplot(1, 5, i+1)\n",
    "            plt.imshow(image, cmap='gray')\n",
    "            plt.title(f'Image {i+1}')\n",
    "            plt.axis('off')\n",
    "\n",
    "    plt.tight_layout()\n",
    "    plt.show()\n",
    "\n"
   ]
  },
  {
   "cell_type": "code",
   "execution_count": null,
   "id": "f4e02bb9",
   "metadata": {
    "execution": {
     "iopub.execute_input": "2025-03-06T12:48:28.126844Z",
     "iopub.status.busy": "2025-03-06T12:48:28.126478Z",
     "iopub.status.idle": "2025-03-06T12:48:32.559591Z",
     "shell.execute_reply": "2025-03-06T12:48:32.558004Z",
     "shell.execute_reply.started": "2025-03-06T12:48:28.126816Z"
    },
    "papermill": {
     "duration": null,
     "end_time": null,
     "exception": null,
     "start_time": null,
     "status": "pending"
    },
    "tags": []
   },
   "outputs": [],
   "source": [
    "# Ngan\n",
    "# ramdom 100 ảnh \n",
    "import random\n",
    "\n",
    "num_images = 100\n",
    "\n",
    "# Chọn ngẫu nhiên 100 ảnh và nhãn tương ứng\n",
    "random_indices = random.sample(range(len(images)), min(num_images, len(images)))\n",
    "random_images = [images[i] for i in random_indices]\n",
    "random_labels = [labels[i] for i in random_indices]\n",
    "\n",
    "# Định dạng lưới hiển thị\n",
    "rows = 10\n",
    "cols = 10\n",
    "\n",
    "fig, axes = plt.subplots(rows, cols, figsize=(15, 15))\n",
    "\n",
    "for i, ax in enumerate(axes.flat):\n",
    "    if i >= len(random_images):\n",
    "        break\n",
    "    ax.imshow(random_images[i].squeeze(), cmap='gray')  # Hiển thị ảnh\n",
    "    # ax.set_title(random_labels[i])  # Hiển thị nhãn ảnh\n",
    "    ax.axis('off')  # Ẩn trục tọa độ\n",
    "\n",
    "plt.tight_layout()\n",
    "plt.show()\n"
   ]
  },
  {
   "cell_type": "code",
   "execution_count": null,
   "id": "de276246",
   "metadata": {
    "execution": {
     "iopub.execute_input": "2025-03-06T12:48:39.359457Z",
     "iopub.status.busy": "2025-03-06T12:48:39.359103Z",
     "iopub.status.idle": "2025-03-06T12:49:11.639188Z",
     "shell.execute_reply": "2025-03-06T12:49:11.638030Z",
     "shell.execute_reply.started": "2025-03-06T12:48:39.359430Z"
    },
    "papermill": {
     "duration": null,
     "end_time": null,
     "exception": null,
     "start_time": null,
     "status": "pending"
    },
    "tags": []
   },
   "outputs": [],
   "source": [
    "# Ngan\n",
    "# thống kê kích thước ảnh\n",
    "\n",
    "# Lấy danh sách kích thước ảnh (width, height)\n",
    "image_sizes = [cv2.imread(os.path.join(image_dir, data['imagePath'])).shape[:2] for data in tqdm([json.load(open(os.path.join(annotation_dir, f))) for f in os.listdir(annotation_dir)])]\n",
    "\n",
    "# Chuyển đổi về numpy array\n",
    "image_sizes = np.array(image_sizes)\n",
    "\n",
    "# Tạo DataFrame để vẽ biểu đồ\n",
    "df_sizes = pd.DataFrame(image_sizes, columns=['Height', 'Width'])\n",
    "\n",
    "# Vẽ biểu đồ kích thước ảnh\n",
    "plt.figure(figsize=(10, 5))\n",
    "sns.histplot(df_sizes, kde=True, bins=30)\n",
    "\n",
    "# Thêm nhãn và tiêu đề\n",
    "plt.xlabel(\"Pixels\")\n",
    "plt.ylabel(\"Số lượng ảnh\")\n",
    "plt.title(\"Phân bố kích thước ảnh trong dataset\")\n",
    "\n",
    "# Hiển thị biểu đồ\n",
    "plt.show()\n"
   ]
  },
  {
   "cell_type": "code",
   "execution_count": null,
   "id": "699a3234",
   "metadata": {
    "execution": {
     "iopub.execute_input": "2025-03-06T13:03:41.005375Z",
     "iopub.status.busy": "2025-03-06T13:03:41.005026Z",
     "iopub.status.idle": "2025-03-06T13:03:42.935235Z",
     "shell.execute_reply": "2025-03-06T13:03:42.934166Z",
     "shell.execute_reply.started": "2025-03-06T13:03:41.005349Z"
    },
    "papermill": {
     "duration": null,
     "end_time": null,
     "exception": null,
     "start_time": null,
     "status": "pending"
    },
    "tags": []
   },
   "outputs": [],
   "source": [
    "# Ngan\n",
    "# thống kê số lượng ảnh theo phân loại xương\n",
    "\n",
    "excel_path = \"/kaggle/input/btxrd-data/BTXRD/dataset.xlsx\"\n",
    "df = pd.read_excel(excel_path)\n",
    "\n",
    "# Danh sách các phân loại xương\n",
    "bone_categories = [\"hand\", \"ulna\", \"radius\", \"humerus\", \"foot\", \"tibia\", \"fibula\", \n",
    "                   \"femur\", \"hip bone\", \"ankle-joint\", \"knee-joint\", \"hip-joint\", \n",
    "                   \"wrist-joint\", \"elbow-joint\", \"shoulder-joint\"]\n",
    "\n",
    "# Đếm số lượng ảnh theo từng phân loại xương\n",
    "bone_counts = df[bone_categories].sum()\n",
    "\n",
    "plt.figure(figsize=(12, 6))\n",
    "sns.barplot(x=bone_counts.index, y=bone_counts.values, palette=\"pastel\")\n",
    "plt.xticks(rotation=90)\n",
    "plt.xlabel(\"Loại xương\")\n",
    "plt.ylabel(\"Số lượng ảnh\")\n",
    "plt.title(\"Thống kê số lượng ảnh theo phân loại xương\")\n",
    "plt.show()\n",
    "\n"
   ]
  },
  {
   "cell_type": "code",
   "execution_count": null,
   "id": "c7ca182a",
   "metadata": {
    "execution": {
     "iopub.execute_input": "2025-03-06T13:05:54.885568Z",
     "iopub.status.busy": "2025-03-06T13:05:54.885211Z",
     "iopub.status.idle": "2025-03-06T13:05:56.648833Z",
     "shell.execute_reply": "2025-03-06T13:05:56.647677Z",
     "shell.execute_reply.started": "2025-03-06T13:05:54.885543Z"
    },
    "papermill": {
     "duration": null,
     "end_time": null,
     "exception": null,
     "start_time": null,
     "status": "pending"
    },
    "tags": []
   },
   "outputs": [],
   "source": [
    "# Ngan\n",
    "# thống kê số lượng ảnh theo phân loại khối u\n",
    "\n",
    "from collections import Counter\n",
    "\n",
    "annotation_dir = '/kaggle/input/btxrd-data/BTXRD/Annotations'\n",
    "\n",
    "# Đọc tất cả các file JSON và lấy nhãn xương\n",
    "bone_labels = []\n",
    "\n",
    "for json_file in os.listdir(annotation_dir):\n",
    "    json_path = os.path.join(annotation_dir, json_file)\n",
    "    with open(json_path, 'r') as f:\n",
    "        data = json.load(f)\n",
    "        labels = [shape[\"label\"] for shape in data[\"shapes\"]]\n",
    "        bone_labels.extend(labels)\n",
    "\n",
    "# Đếm số lượng từng loại xương\n",
    "label_counts = Counter(bone_labels)\n",
    "\n",
    "plt.figure(figsize=(10, 5))\n",
    "sns.barplot(x=list(label_counts.keys()), y=list(label_counts.values()), palette=\"viridis\")\n",
    "plt.xlabel(\"Phân loại xương\")\n",
    "plt.ylabel(\"Số lượng ảnh\")\n",
    "plt.title(\"Thống kê số lượng ảnh theo phân loại khối u\")\n",
    "plt.xticks(rotation=90)\n",
    "plt.show()\n",
    "\n"
   ]
  },
  {
   "cell_type": "code",
   "execution_count": null,
   "id": "c15ce680",
   "metadata": {
    "execution": {
     "iopub.execute_input": "2025-03-06T14:28:56.527747Z",
     "iopub.status.busy": "2025-03-06T14:28:56.527158Z",
     "iopub.status.idle": "2025-03-06T14:29:06.723322Z",
     "shell.execute_reply": "2025-03-06T14:29:06.721955Z",
     "shell.execute_reply.started": "2025-03-06T14:28:56.527699Z"
    },
    "papermill": {
     "duration": null,
     "end_time": null,
     "exception": null,
     "start_time": null,
     "status": "pending"
    },
    "tags": []
   },
   "outputs": [],
   "source": [
    "# Ngan\n",
    "# tỉ lệ mắc các loại ung thư xương ở các độ tuổi và giới tính\n",
    "import os\n",
    "import json\n",
    "import pandas as pd\n",
    "import seaborn as sns\n",
    "import matplotlib.pyplot as plt\n",
    "\n",
    "# Đọc file Excel\n",
    "excel_path = '/kaggle/input/btxrd-data/BTXRD/dataset.xlsx'\n",
    "df_info = pd.read_excel(excel_path, sheet_name=0)  # Sheet 1\n",
    "\n",
    "# Đọc tất cả các file JSON trong thư mục chứa annotation\n",
    "annotation_dir = '/kaggle/input/btxrd-data/BTXRD/Annotations'\n",
    "data_list = []\n",
    "\n",
    "for json_file in os.listdir(annotation_dir):\n",
    "    json_path = os.path.join(annotation_dir, json_file)\n",
    "    with open(json_path, \"r\") as f:\n",
    "        data = json.load(f)\n",
    "        image_id = data[\"imagePath\"]\n",
    "        # Lấy danh sách các nhãn ung thư từ shapes\n",
    "        labels = [shape[\"label\"] for shape in data[\"shapes\"]]\n",
    "        for label in set(labels):  # Loại bỏ trùng lặp nhãn trong cùng một ảnh\n",
    "            data_list.append({\"image_id\": image_id, \"cancer_type\": label})\n",
    "\n",
    "# Tạo DataFrame từ JSON\n",
    "df_cancer = pd.DataFrame(data_list)\n",
    "\n",
    "# Gộp dữ liệu từ dataset.xlsx với JSON theo `image_id`\n",
    "df_merged = df_info.merge(df_cancer, on=\"image_id\", how=\"inner\")\n",
    "\n",
    "# Chia nhóm tuổi (buckets)\n",
    "bins = [0, 10, 20, 30, 40, 50, 60, 70, 80, 100]\n",
    "labels = [\"<10\", \"10-20\", \"20-30\", \"30-40\", \"40-50\", \"50-60\", \"60-70\", \"70-80\", \"80+\"]\n",
    "df_merged[\"age_group\"] = pd.cut(df_merged[\"age\"], bins=bins, labels=labels, right=False)\n",
    "\n",
    "# Tính tỉ lệ mắc ung thư theo từng nhóm tuổi\n",
    "df_age_cancer = df_merged.groupby([\"age_group\", \"cancer_type\"]).size().reset_index(name=\"count\")\n",
    "\n",
    "# Chuẩn hóa tỉ lệ theo tổng số bệnh nhân trong từng nhóm tuổi\n",
    "df_total_age = df_merged.groupby(\"age_group\").size().reset_index(name=\"total_count\")\n",
    "df_age_cancer = df_age_cancer.merge(df_total_age, on=\"age_group\")\n",
    "df_age_cancer[\"ratio\"] = df_age_cancer[\"count\"] / df_age_cancer[\"total_count\"] * 100  # Tính tỉ lệ %\n",
    "\n",
    "# Vẽ biểu đồ tỉ lệ mắc ung thư theo nhóm tuổi\n",
    "plt.figure(figsize=(12, 6))\n",
    "sns.barplot(x=\"age_group\", y=\"ratio\", hue=\"cancer_type\", data=df_age_cancer, palette=\"viridis\")\n",
    "plt.xlabel(\"Nhóm tuổi\")\n",
    "plt.ylabel(\"Tỉ lệ mắc (%)\")\n",
    "plt.title(\"Tỉ lệ mắc các loại ung thư xương theo nhóm tuổi\")\n",
    "plt.legend(title=\"Loại ung thư\", bbox_to_anchor=(1.05, 1), loc='upper left')\n",
    "plt.show()\n",
    "\n",
    "# Biểu đồ 2: Phân bố giới tính theo loại ung thư (GIỮ NGUYÊN)\n",
    "df_gender_count = df_merged.groupby([\"cancer_type\", \"gender\"]).size().reset_index(name=\"count\")\n",
    "\n",
    "plt.figure(figsize=(10, 5))\n",
    "sns.barplot(x=\"cancer_type\", y=\"count\", hue=\"gender\", data=df_gender_count, palette=\"coolwarm\")\n",
    "plt.xticks(rotation=90)\n",
    "plt.xlabel(\"Loại ung thư\")\n",
    "plt.ylabel(\"Số lượng\")\n",
    "plt.title(\"Phân bố giới tính theo loại ung thư\")\n",
    "plt.legend(title=\"Giới tính\", labels=[\"Nam\", \"Nữ\"])\n",
    "plt.show()\n",
    "\n"
   ]
  },
  {
   "cell_type": "code",
   "execution_count": null,
   "id": "bed3fe7c",
   "metadata": {
    "execution": {
     "iopub.execute_input": "2025-03-05T15:37:04.045355Z",
     "iopub.status.busy": "2025-03-05T15:37:04.044932Z",
     "iopub.status.idle": "2025-03-05T15:37:07.038717Z",
     "shell.execute_reply": "2025-03-05T15:37:07.037584Z",
     "shell.execute_reply.started": "2025-03-05T15:37:04.045323Z"
    },
    "papermill": {
     "duration": null,
     "end_time": null,
     "exception": null,
     "start_time": null,
     "status": "pending"
    },
    "tags": []
   },
   "outputs": [],
   "source": [
    "# Ngan\n",
    "# tỉ lệ center = 1 vs các loại ung thư\n",
    "import os\n",
    "import json\n",
    "import pandas as pd\n",
    "import seaborn as sns\n",
    "import matplotlib.pyplot as plt\n",
    "from tqdm import tqdm  # Hiển thị tiến trình\n",
    "\n",
    "# Đọc file Excel\n",
    "excel_path = '/kaggle/input/btxrd-data/BTXRD/dataset.xlsx'\n",
    "df_info = pd.read_excel(excel_path, sheet_name=0)  # Đọc Sheet 1\n",
    "\n",
    "# Đọc tất cả các file JSON trong thư mục chứa annotation\n",
    "annotation_dir = '/kaggle/input/btxrd-data/BTXRD/Annotations'\n",
    "data_list = []\n",
    "\n",
    "for json_file in tqdm(os.listdir(annotation_dir), desc=\"Đang xử lý JSON\", unit=\"file\"):\n",
    "    json_path = os.path.join(annotation_dir, json_file)\n",
    "    with open(json_path, \"r\", encoding=\"utf-8\") as f:\n",
    "        data = json.load(f)\n",
    "        image_id = data[\"imagePath\"]\n",
    "        # Lấy danh sách các nhãn ung thư từ shapes\n",
    "        labels = [shape[\"label\"] for shape in data[\"shapes\"]]\n",
    "        for label in set(labels):  # Loại bỏ trùng lặp nhãn trong cùng một ảnh\n",
    "            data_list.append({\"image_id\": image_id, \"cancer_type\": label})\n",
    "\n",
    "# Tạo DataFrame từ JSON\n",
    "df_json = pd.DataFrame(data_list)\n",
    "\n",
    "# Gộp dữ liệu từ dataset.xlsx với JSON theo `image_id`\n",
    "df_merged = pd.merge(df_info, df_json, on=\"image_id\", how=\"inner\")\n",
    "\n",
    "# Tính tổng số ca mắc từng loại ung thư\n",
    "df_total = df_merged.groupby(\"cancer_type\").size().reset_index(name=\"total_count\")\n",
    "\n",
    "# Tính số ca mắc của `center = 1`\n",
    "df_center_1 = df_merged[df_merged[\"center\"] == 1].groupby(\"cancer_type\").size().reset_index(name=\"center_1_count\")\n",
    "\n",
    "# Gộp lại để tính tỷ lệ\n",
    "df_ratio = pd.merge(df_total, df_center_1, on=\"cancer_type\", how=\"left\").fillna(0)\n",
    "df_ratio[\"percentage\"] = (df_ratio[\"center_1_count\"] / df_ratio[\"total_count\"]) * 100\n",
    "\n",
    "# Vẽ biểu đồ cột thể hiện tỷ lệ center = 1 với từng loại ung thư\n",
    "plt.figure(figsize=(10, 5))\n",
    "sns.barplot(x=\"cancer_type\", y=\"percentage\", data=df_ratio, palette=\"pastel\")\n",
    "\n",
    "# Thêm nhãn và tiêu đề\n",
    "plt.xlabel(\"Loại ung thư\")\n",
    "plt.ylabel(\"Tỷ lệ (%)\")\n",
    "plt.title(\"Tỷ lệ ca mắc bệnh ung thư xương khi Center = 1\")\n",
    "plt.xticks(rotation=90, ha=\"right\")\n",
    "\n",
    "# Hiển thị biểu đồ\n",
    "plt.show()\n"
   ]
  },
  {
   "cell_type": "code",
   "execution_count": null,
   "id": "8db8f4e6",
   "metadata": {
    "execution": {
     "iopub.execute_input": "2025-03-05T15:33:17.190950Z",
     "iopub.status.busy": "2025-03-05T15:33:17.190508Z",
     "iopub.status.idle": "2025-03-05T15:33:20.764341Z",
     "shell.execute_reply": "2025-03-05T15:33:20.763230Z",
     "shell.execute_reply.started": "2025-03-05T15:33:17.190917Z"
    },
    "papermill": {
     "duration": null,
     "end_time": null,
     "exception": null,
     "start_time": null,
     "status": "pending"
    },
    "tags": []
   },
   "outputs": [],
   "source": [
    "# Ngan\n",
    "# Số lượng ca mắc các loại ung thư vs center\n",
    "import os\n",
    "import json\n",
    "import pandas as pd\n",
    "import seaborn as sns\n",
    "import matplotlib.pyplot as plt\n",
    "from tqdm import tqdm  # Hiển thị tiến trình\n",
    "\n",
    "# Đọc file Excel\n",
    "excel_path = '/kaggle/input/btxrd-data/BTXRD/dataset.xlsx'\n",
    "df_info = pd.read_excel(excel_path, sheet_name=0)  # Đọc Sheet 1\n",
    "\n",
    "# Đọc tất cả các file JSON trong thư mục chứa annotation\n",
    "annotation_dir = '/kaggle/input/btxrd-data/BTXRD/Annotations'\n",
    "data_list = []\n",
    "\n",
    "for json_file in tqdm(os.listdir(annotation_dir), desc=\"Đang xử lý JSON\", unit=\"file\"):\n",
    "    json_path = os.path.join(annotation_dir, json_file)\n",
    "    with open(json_path, \"r\", encoding=\"utf-8\") as f:\n",
    "        data = json.load(f)\n",
    "        image_id = data[\"imagePath\"]\n",
    "        # Lấy danh sách các nhãn ung thư từ shapes\n",
    "        labels = [shape[\"label\"] for shape in data[\"shapes\"]]\n",
    "        for label in set(labels):  # Loại bỏ trùng lặp nhãn trong cùng một ảnh\n",
    "            data_list.append({\"image_id\": image_id, \"cancer_type\": label})\n",
    "\n",
    "# Tạo DataFrame từ JSON\n",
    "df_json = pd.DataFrame(data_list)\n",
    "\n",
    "# Gộp dữ liệu từ dataset.xlsx với JSON theo `image_id`\n",
    "df_merged = pd.merge(df_info, df_json, on=\"image_id\", how=\"inner\")\n",
    "\n",
    "# Nhóm dữ liệu theo loại ung thư và center\n",
    "df_center_count = df_merged.groupby([\"cancer_type\", \"center\"]).size().reset_index(name=\"count\")\n",
    "\n",
    "# Vẽ biểu đồ cột thể hiện tỷ lệ mắc các loại ung thư theo center\n",
    "plt.figure(figsize=(12, 6))\n",
    "sns.barplot(x=\"cancer_type\", y=\"count\", hue=\"center\", data=df_center_count, palette=\"Set2\")\n",
    "\n",
    "# Thêm nhãn và tiêu đề\n",
    "plt.xlabel(\"Loại ung thư\")\n",
    "plt.ylabel(\"Số lượng ca mắc\")\n",
    "plt.title(\"Số lượng ca mắc các loại ung thư theo từng center\")\n",
    "plt.xticks(rotation=90, ha=\"right\")\n",
    "plt.legend(title=\"Center\")\n",
    "\n",
    "# Hiển thị biểu đồ\n",
    "plt.show()\n"
   ]
  },
  {
   "cell_type": "code",
   "execution_count": null,
   "id": "518c4036",
   "metadata": {
    "execution": {
     "iopub.execute_input": "2025-03-06T13:08:05.459640Z",
     "iopub.status.busy": "2025-03-06T13:08:05.459277Z",
     "iopub.status.idle": "2025-03-06T13:08:08.151522Z",
     "shell.execute_reply": "2025-03-06T13:08:08.150543Z",
     "shell.execute_reply.started": "2025-03-06T13:08:05.459614Z"
    },
    "papermill": {
     "duration": null,
     "end_time": null,
     "exception": null,
     "start_time": null,
     "status": "pending"
    },
    "tags": []
   },
   "outputs": [],
   "source": [
    "# Han\n",
    "# tạo cột xác định tình trạng khối u \n",
    "def get_neoplasm(row):\n",
    "    if row['tumor'] == 1:\n",
    "        if row['benign'] == 1:\n",
    "            return 'benign'\n",
    "        if row['malignant'] == 1:\n",
    "            return  'malignant'\n",
    "    return 'no tumor'\n",
    "\n",
    "df['neoplasm']=df.apply(get_neoplasm,axis=1)\n",
    "df.to_excel(\"dataset_new.xlsx\", index=False, engine=\"openpyxl\")\n",
    "\n",
    "# Hiển thị 5 dòng đầu tiên\n",
    "print(df)"
   ]
  },
  {
   "cell_type": "markdown",
   "id": "f9e793d8",
   "metadata": {
    "papermill": {
     "duration": null,
     "end_time": null,
     "exception": null,
     "start_time": null,
     "status": "pending"
    },
    "tags": []
   },
   "source": [
    "# **Xử lý ảnh**"
   ]
  },
  {
   "cell_type": "code",
   "execution_count": null,
   "id": "0391b129",
   "metadata": {
    "execution": {
     "iopub.execute_input": "2025-03-06T14:41:37.789448Z",
     "iopub.status.busy": "2025-03-06T14:41:37.789075Z",
     "iopub.status.idle": "2025-03-06T14:41:38.959657Z",
     "shell.execute_reply": "2025-03-06T14:41:38.958252Z",
     "shell.execute_reply.started": "2025-03-06T14:41:37.789414Z"
    },
    "papermill": {
     "duration": null,
     "end_time": null,
     "exception": null,
     "start_time": null,
     "status": "pending"
    },
    "tags": []
   },
   "outputs": [],
   "source": [
    "# Han\n",
    "# hiển thị một ảnh ban đầu\n",
    "\n",
    "with open(path+\"Annotations/IMG000005.json\", \"r\") as f:\n",
    "    data = json.load(f)\n",
    "\n",
    "# Lấy đường dẫn ảnh\n",
    "image_path = path +'images/'+ data.get(\"imagePath\", None)\n",
    "print (image_path)\n",
    "# Kiểm tra và đọc ảnh\n",
    "if image_path and os.path.exists(image_path):  \n",
    "    img = cv2.imread(image_path)\n",
    "    img = cv2.cvtColor(img, cv2.COLOR_BGR2RGB)  # Chuyển từ BGR sang RGB để hiển thị đúng màu\n",
    "else:\n",
    "    print(f\"⚠️ Không tìm thấy ảnh tại tạo nền trắng.\")\n",
    "    img = np.ones((data[\"imageHeight\"], data[\"imageWidth\"], 3), dtype=np.uint8) * 255  \n",
    "\n",
    "# Hiển thị ảnh\n",
    "plt.figure(figsize=(10, 10))\n",
    "plt.imshow(img)\n",
    "plt.title(\"Ảnh ban đầu\")\n",
    "plt.axis(\"off\")\n",
    "plt.show()"
   ]
  },
  {
   "cell_type": "code",
   "execution_count": null,
   "id": "f47e7924",
   "metadata": {
    "execution": {
     "iopub.execute_input": "2025-03-06T14:41:45.060799Z",
     "iopub.status.busy": "2025-03-06T14:41:45.060451Z",
     "iopub.status.idle": "2025-03-06T14:41:46.040991Z",
     "shell.execute_reply": "2025-03-06T14:41:46.039663Z",
     "shell.execute_reply.started": "2025-03-06T14:41:45.060772Z"
    },
    "papermill": {
     "duration": null,
     "end_time": null,
     "exception": null,
     "start_time": null,
     "status": "pending"
    },
    "tags": []
   },
   "outputs": [],
   "source": [
    "# Han\n",
    "# Khoanh vùng khối u (bounding box)\n",
    "\n",
    "# Vẽ các điểm từ JSON\n",
    "for shape in data[\"shapes\"]:\n",
    "    points = np.array(shape[\"points\"], dtype=np.int32)  # Chuyển về kiểu số nguyên\n",
    "    label = shape[\"label\"]\n",
    "    \n",
    "    # Kiểm tra loại hình dạng\n",
    "    if shape[\"shape_type\"] == \"polygon\":\n",
    "        cv2.polylines(img, [points], isClosed=True, color=(255, 0, 0), thickness=2)\n",
    "    elif shape[\"shape_type\"] == \"rectangle\":\n",
    "        cv2.rectangle(img, tuple(points[0]), tuple(points[1]), (0, 255, 0), 2)\n",
    "\n",
    "# Hiển thị ảnh\n",
    "plt.figure(figsize=(10, 10))\n",
    "plt.imshow(img)\n",
    "plt.title(\"Ảnh với các điểm từ JSON\")\n",
    "plt.axis(\"off\")\n",
    "plt.show()"
   ]
  },
  {
   "cell_type": "code",
   "execution_count": null,
   "id": "6a2119af",
   "metadata": {
    "execution": {
     "iopub.execute_input": "2025-03-06T14:41:50.071971Z",
     "iopub.status.busy": "2025-03-06T14:41:50.071596Z",
     "iopub.status.idle": "2025-03-06T14:41:51.847375Z",
     "shell.execute_reply": "2025-03-06T14:41:51.846112Z",
     "shell.execute_reply.started": "2025-03-06T14:41:50.071942Z"
    },
    "papermill": {
     "duration": null,
     "end_time": null,
     "exception": null,
     "start_time": null,
     "status": "pending"
    },
    "tags": []
   },
   "outputs": [],
   "source": [
    "# Han\n",
    "# tạo mask\n",
    "# Tạo mask (ảnh đen) cùng kích thước với ảnh gốc\n",
    "mask = img.copy()\n",
    "\n",
    "# Duyệt qua các hình trong JSON và vẽ lên mask\n",
    "for shape in data[\"shapes\"]:\n",
    "    points = np.array(shape[\"points\"], dtype=np.int32)  # Chuyển về numpy array\n",
    "\n",
    "    if shape[\"shape_type\"] == \"polygon\":\n",
    "        cv2.fillPoly(mask, [points], color=255)  # Đổ màu trắng vào mask\n",
    "    elif shape[\"shape_type\"] == \"rectangle\":\n",
    "        cv2.rectangle(mask, tuple(points[0]), tuple(points[1]), 43, -1)  # -1 để tô kín\n",
    "\n",
    "# Hiển thị ảnh gốc và mask\n",
    "plt.figure(figsize=(12, 6))\n",
    "plt.subplot(1, 2, 1)\n",
    "plt.imshow(img)\n",
    "plt.title(\"Ảnh bounding box\")\n",
    "plt.axis(\"off\")\n",
    "\n",
    "plt.subplot(1, 2, 2)\n",
    "plt.imshow(mask, cmap=\"gray\")\n",
    "plt.title(\"Mask từ JSON\")\n",
    "plt.axis(\"off\")\n",
    "plt.show()"
   ]
  },
  {
   "cell_type": "code",
   "execution_count": null,
   "id": "2ef1414e",
   "metadata": {
    "execution": {
     "iopub.execute_input": "2025-03-06T13:21:01.158708Z",
     "iopub.status.busy": "2025-03-06T13:21:01.158347Z",
     "iopub.status.idle": "2025-03-06T13:21:01.168892Z",
     "shell.execute_reply": "2025-03-06T13:21:01.167518Z",
     "shell.execute_reply.started": "2025-03-06T13:21:01.158682Z"
    },
    "papermill": {
     "duration": null,
     "end_time": null,
     "exception": null,
     "start_time": null,
     "status": "pending"
    },
    "tags": []
   },
   "outputs": [],
   "source": [
    "# Han\n",
    "# tính diện tích vùng ung thư\n",
    "def get_point(data):\n",
    "    polygons=[]\n",
    "    for shape in data[\"shapes\"]:\n",
    "        if shape[\"shape_type\"] == \"polygon\":\n",
    "            polygons.append(np.array(shape[\"points\"], dtype=np.int32))\n",
    "    return polygons\n",
    "    \n",
    "def shoelace_area(data):\n",
    "    n = len(data)\n",
    "    area = 0\n",
    "    for i in range(n):\n",
    "        x1, y1 = points[i]\n",
    "        x2, y2 = points[(i + 1) % n]  # Điểm kế tiếp (vòng lại điểm đầu)\n",
    "        area += (x1 * y2 - x2 * y1)\n",
    "    return abs(area) / 2\n",
    "\n",
    "# Lấy danh sách polygons từ JSON\n",
    "polygons = get_point(data)\n",
    "\n",
    "# Tính diện tích cho từng polygon\n",
    "areas_tumor = [shoelace_area(polygon) for polygon in polygons]\n",
    "\n",
    "print(\"Diện tích vùng ung thư\")\n",
    "print(areas_tumor)\n",
    "print(\"Diện tích ảnh\")\n",
    "print(data[\"imageHeight\"]*data[\"imageWidth\"])"
   ]
  },
  {
   "cell_type": "code",
   "execution_count": null,
   "id": "f6a3db8b",
   "metadata": {
    "execution": {
     "iopub.execute_input": "2025-03-06T13:51:47.174351Z",
     "iopub.status.busy": "2025-03-06T13:51:47.173986Z",
     "iopub.status.idle": "2025-03-06T13:52:06.910715Z",
     "shell.execute_reply": "2025-03-06T13:52:06.909545Z",
     "shell.execute_reply.started": "2025-03-06T13:51:47.174326Z"
    },
    "papermill": {
     "duration": null,
     "end_time": null,
     "exception": null,
     "start_time": null,
     "status": "pending"
    },
    "tags": []
   },
   "outputs": [],
   "source": [
    "# Ngan \n",
    "# bounding box 25 ảnh \n",
    "\n",
    "# Lấy 25 file JSON đầu tiên từ thư mục\n",
    "json_files = sorted(os.listdir(annotation_dir))[:25]\n",
    "\n",
    "# Danh sách lưu ảnh đã vẽ bounding box\n",
    "processed_images = []\n",
    "\n",
    "for json_file in json_files:\n",
    "    json_path = os.path.join(annotation_dir, json_file)\n",
    "    \n",
    "    with open(json_path, \"r\") as f:\n",
    "        data = json.load(f)\n",
    "\n",
    "    # Lấy đường dẫn ảnh\n",
    "    image_path = os.path.join(image_dir, data[\"imagePath\"])\n",
    "    \n",
    "    if not os.path.exists(image_path):\n",
    "        continue  # Bỏ qua nếu ảnh không tồn tại\n",
    "    \n",
    "    # Đọc ảnh\n",
    "    img = cv2.imread(image_path)\n",
    "    img = cv2.cvtColor(img, cv2.COLOR_BGR2RGB)\n",
    "\n",
    "    # Vẽ bounding box từ annotation\n",
    "    for shape in data[\"shapes\"]:\n",
    "        points = np.array(shape[\"points\"], dtype=np.int32)\n",
    "        \n",
    "        if shape[\"shape_type\"] == \"polygon\":\n",
    "            cv2.polylines(img, [points], isClosed=True, color=(255, 0, 0), thickness=5)\n",
    "        elif shape[\"shape_type\"] == \"rectangle\":\n",
    "            cv2.rectangle(img, tuple(points[0]), tuple(points[1]), (0, 255, 0), 2)\n",
    "\n",
    "    # Thêm ảnh đã xử lý vào danh sách\n",
    "    processed_images.append(img)\n",
    "\n",
    "# Hiển thị ảnh theo lưới 5x5\n",
    "rows, cols = 5, 5\n",
    "fig, axes = plt.subplots(rows, cols, figsize=(15, 15))\n",
    "\n",
    "for i, ax in enumerate(axes.flat):\n",
    "    if i >= len(processed_images):\n",
    "        ax.axis(\"off\")\n",
    "        continue\n",
    "    ax.imshow(processed_images[i])\n",
    "    ax.axis(\"off\")  \n",
    "\n",
    "plt.tight_layout()\n",
    "plt.show()\n",
    "\n"
   ]
  },
  {
   "cell_type": "code",
   "execution_count": null,
   "id": "47af32e7",
   "metadata": {
    "execution": {
     "iopub.execute_input": "2025-03-06T13:45:37.069698Z",
     "iopub.status.busy": "2025-03-06T13:45:37.069171Z",
     "iopub.status.idle": "2025-03-06T13:46:02.713136Z",
     "shell.execute_reply": "2025-03-06T13:46:02.711953Z",
     "shell.execute_reply.started": "2025-03-06T13:45:37.069661Z"
    },
    "papermill": {
     "duration": null,
     "end_time": null,
     "exception": null,
     "start_time": null,
     "status": "pending"
    },
    "tags": []
   },
   "outputs": [],
   "source": [
    "# Ngan\n",
    "# mask 25 ảnh ở đầu\n",
    "\n",
    "# Danh sách lưu ảnh gốc và mask\n",
    "processed_images = []\n",
    "processed_masks = []\n",
    "\n",
    "for json_file in json_files:\n",
    "    json_path = os.path.join(annotation_dir, json_file)\n",
    "    \n",
    "    with open(json_path, \"r\") as f:\n",
    "        data = json.load(f)\n",
    "\n",
    "    # Lấy đường dẫn ảnh\n",
    "    image_path = os.path.join(image_dir, data[\"imagePath\"])\n",
    "    \n",
    "    if not os.path.exists(image_path):\n",
    "        continue  # Bỏ qua nếu ảnh không tồn tại\n",
    "    \n",
    "    # Đọc ảnh gốc\n",
    "    img = cv2.imread(image_path)\n",
    "    img = cv2.cvtColor(img, cv2.COLOR_BGR2RGB)\n",
    "\n",
    "    # Tạo mask đen cùng kích thước ảnh\n",
    "    height, width = data[\"imageHeight\"], data[\"imageWidth\"]\n",
    "    mask = np.zeros((height, width), dtype=np.uint8)\n",
    "\n",
    "    # Vẽ bounding box lên mask\n",
    "    for shape in data[\"shapes\"]:\n",
    "        points = np.array(shape[\"points\"], dtype=np.int32)\n",
    "        \n",
    "        if shape[\"shape_type\"] == \"polygon\":\n",
    "            cv2.fillPoly(mask, [points], color=(255, 255, 255))  # Đổ màu trắng vào mask\n",
    "        elif shape[\"shape_type\"] == \"rectangle\":\n",
    "            cv2.rectangle(mask, tuple(points[0]), tuple(points[1]), (255, 255, 255), -1)  # -1 để tô kín\n",
    "\n",
    "    # Thêm ảnh gốc và mask vào danh sách\n",
    "    processed_images.append(img)\n",
    "    processed_masks.append(mask)\n",
    "\n",
    "# Hiển thị ảnh gốc và mask theo lưới 5x5 (5 hàng, mỗi hàng có 5 ảnh gốc + 5 mask)\n",
    "rows, cols = 5, 5 * 2  # 5 hàng, mỗi hàng có 5 ảnh gốc + 5 mask\n",
    "fig, axes = plt.subplots(rows, cols, figsize=(15, 15))\n",
    "\n",
    "for i, ax in enumerate(axes.flat):\n",
    "    if i >= len(processed_images) * 2:\n",
    "        ax.axis(\"off\")\n",
    "        continue\n",
    "    if i % 2 == 0:\n",
    "        ax.imshow(processed_images[i // 2])  # Ảnh gốc\n",
    "        ax.set_title(\"Ảnh gốc\")\n",
    "    else:\n",
    "        ax.imshow(processed_masks[i // 2], cmap=\"gray\")  # Mask\n",
    "        ax.set_title(\"Mask từ JSON\")\n",
    "    ax.axis(\"off\")  \n",
    "\n",
    "plt.tight_layout()\n",
    "plt.show()\n"
   ]
  },
  {
   "cell_type": "markdown",
   "id": "c590cf84",
   "metadata": {
    "papermill": {
     "duration": null,
     "end_time": null,
     "exception": null,
     "start_time": null,
     "status": "pending"
    },
    "tags": []
   },
   "source": [
    "**Từ đây trở xuống là nháp ↓↓↓↓↓↓**"
   ]
  },
  {
   "cell_type": "code",
   "execution_count": null,
   "id": "b1071144",
   "metadata": {
    "execution": {
     "iopub.execute_input": "2025-03-06T13:38:18.418396Z",
     "iopub.status.busy": "2025-03-06T13:38:18.417985Z",
     "iopub.status.idle": "2025-03-06T13:38:32.939669Z",
     "shell.execute_reply": "2025-03-06T13:38:32.938361Z",
     "shell.execute_reply.started": "2025-03-06T13:38:18.418362Z"
    },
    "papermill": {
     "duration": null,
     "end_time": null,
     "exception": null,
     "start_time": null,
     "status": "pending"
    },
    "tags": []
   },
   "outputs": [],
   "source": [
    "# Ngan\n",
    "# mask 25 ảnh ở trên\n",
    "\n",
    "import os\n",
    "import json\n",
    "import cv2\n",
    "import numpy as np\n",
    "import matplotlib.pyplot as plt\n",
    "import random\n",
    "\n",
    "# Đường dẫn dữ liệu\n",
    "image_dir = \"/kaggle/input/btxrd-data/BTXRD/images\"\n",
    "annotation_dir = \"/kaggle/input/btxrd-data/BTXRD/Annotations\"\n",
    "\n",
    "# Chọn 25 file JSON ngẫu nhiên\n",
    "json_files = random.sample(os.listdir(annotation_dir), 25)\n",
    "\n",
    "# Danh sách lưu ảnh gốc và mask\n",
    "processed_images = []\n",
    "processed_masks = []\n",
    "\n",
    "for json_file in json_files:\n",
    "    json_path = os.path.join(annotation_dir, json_file)\n",
    "    \n",
    "    with open(json_path, \"r\") as f:\n",
    "        data = json.load(f)\n",
    "\n",
    "    # Lấy đường dẫn ảnh\n",
    "    image_path = os.path.join(image_dir, data[\"imagePath\"])\n",
    "    \n",
    "    if not os.path.exists(image_path):\n",
    "        continue  # Bỏ qua nếu ảnh không tồn tại\n",
    "    \n",
    "    # Đọc ảnh gốc\n",
    "    img = cv2.imread(image_path)\n",
    "    img = cv2.cvtColor(img, cv2.COLOR_BGR2RGB)\n",
    "\n",
    "    # Tạo mask đen cùng kích thước ảnh\n",
    "    height, width = data[\"imageHeight\"], data[\"imageWidth\"]\n",
    "    mask = np.zeros((height, width), dtype=np.uint8)\n",
    "\n",
    "    # Vẽ bounding box lên ảnh gốc và mask\n",
    "    for shape in data[\"shapes\"]:\n",
    "        points = np.array(shape[\"points\"], dtype=np.int32)\n",
    "        \n",
    "        # Vẽ trên ảnh gốc\n",
    "        if shape[\"shape_type\"] == \"polygon\":\n",
    "            cv2.polylines(img, [points], isClosed=True, color=(255, 0, 0), thickness=2)\n",
    "            cv2.fillPoly(mask, [points], color=255)  # Vẽ lên mask\n",
    "        elif shape[\"shape_type\"] == \"rectangle\":\n",
    "            cv2.rectangle(img, tuple(points[0]), tuple(points[1]), (0, 255, 0), 2)\n",
    "            cv2.rectangle(mask, tuple(points[0]), tuple(points[1]), 255, -1)  # Vẽ lên mask\n",
    "\n",
    "    # Thêm ảnh gốc và mask vào danh sách\n",
    "    processed_images.append(img)\n",
    "    processed_masks.append(mask)\n",
    "\n",
    "# Hiển thị ảnh gốc và mask theo lưới 5x5\n",
    "rows, cols = 5, 5\n",
    "fig, axes = plt.subplots(rows, cols * 2, figsize=(15, 15))  # Gấp đôi số cột để hiển thị ảnh và mask\n",
    "\n",
    "for i, ax in enumerate(axes.flat):\n",
    "    if i >= len(processed_images) * 2:\n",
    "        ax.axis(\"off\")\n",
    "        continue\n",
    "    if i % 2 == 0:\n",
    "        ax.imshow(processed_images[i // 2])  # Ảnh gốc\n",
    "        ax.set_title(\"Ảnh gốc\")\n",
    "    else:\n",
    "        ax.imshow(processed_masks[i // 2], cmap=\"gray\")  # Mask\n",
    "        ax.set_title(\"Mask từ JSON\")\n",
    "    ax.axis(\"off\")  \n",
    "\n",
    "plt.tight_layout()\n",
    "plt.show()\n"
   ]
  },
  {
   "cell_type": "code",
   "execution_count": null,
   "id": "d82e67f7",
   "metadata": {
    "execution": {
     "iopub.execute_input": "2025-02-25T13:22:08.676745Z",
     "iopub.status.busy": "2025-02-25T13:22:08.676395Z",
     "iopub.status.idle": "2025-02-25T13:22:09.178426Z",
     "shell.execute_reply": "2025-02-25T13:22:09.177273Z",
     "shell.execute_reply.started": "2025-02-25T13:22:08.676720Z"
    },
    "papermill": {
     "duration": null,
     "end_time": null,
     "exception": null,
     "start_time": null,
     "status": "pending"
    },
    "tags": []
   },
   "outputs": [],
   "source": [
    "# Ngan\n",
    "# Phân tích đặc điểm hình ảnh\n",
    "image_shapes = []\n",
    "\n",
    "for image_file in image_files[:20]:  # Phân tích 20 hình ảnh đầu\n",
    "    image_path = os.path.join(image_dir, image_file)\n",
    "    image = Image.open(image_path)\n",
    "    image_shapes.append(image.size)\n",
    "\n",
    "# Tạo DataFrame chứa kích thước hình ảnh\n",
    "shape_df = pd.DataFrame(image_shapes, columns=['Width', 'Height'])\n",
    "print(shape_df.describe())\n",
    "\n",
    "# Vẽ biểu đồ phân bố kích thước hình ảnh\n",
    "plt.figure(figsize=(8, 6))\n",
    "sns.scatterplot(x='Width', y='Height', data=shape_df)\n",
    "plt.title('Phân bố kích thước hình ảnh')\n",
    "plt.xlabel('Chiều rộng (px)')\n",
    "plt.ylabel('Chiều cao (px)')\n",
    "plt.show()\n"
   ]
  },
  {
   "cell_type": "markdown",
   "id": "9988923f",
   "metadata": {
    "papermill": {
     "duration": null,
     "end_time": null,
     "exception": null,
     "start_time": null,
     "status": "pending"
    },
    "tags": []
   },
   "source": [
    "# **Tiền xử lý dữ liệu**"
   ]
  },
  {
   "cell_type": "code",
   "execution_count": null,
   "id": "647e1739",
   "metadata": {
    "execution": {
     "iopub.execute_input": "2025-02-25T13:47:33.686224Z",
     "iopub.status.busy": "2025-02-25T13:47:33.685889Z",
     "iopub.status.idle": "2025-02-25T13:47:34.056176Z",
     "shell.execute_reply": "2025-02-25T13:47:34.054785Z",
     "shell.execute_reply.started": "2025-02-25T13:47:33.686200Z"
    },
    "papermill": {
     "duration": null,
     "end_time": null,
     "exception": null,
     "start_time": null,
     "status": "pending"
    },
    "tags": []
   },
   "outputs": [],
   "source": [
    "# Ngan\n",
    "import numpy as np\n",
    "\n",
    "# Hàm đọc và tiền xử lý hình ảnh\n",
    "def load_and_preprocess_image(image_path, target_size=(224, 224)):\n",
    "    img = cv2.imread(image_path, cv2.IMREAD_GRAYSCALE)\n",
    "    img = cv2.resize(img, target_size)\n",
    "    img = img / 255.0  # Chuẩn hóa pixel từ 0-255 về 0-1\n",
    "    return np.expand_dims(img, axis=-1)\n",
    "\n",
    "# Hàm tạo mask từ file JSON\n",
    "def create_mask_from_json(json_path, img_shape=(224, 224)):\n",
    "    mask = np.zeros(img_shape, dtype=np.uint8)\n",
    "    with open(json_path, 'r') as f:\n",
    "        data = json.load(f)\n",
    "        for shape in data['shapes']:\n",
    "            points = np.array(shape['points'], dtype=np.int32)\n",
    "            cv2.fillPoly(mask, [points], 255)\n",
    "    return mask\n",
    "\n",
    "# Kiểm tra hình ảnh và mask tương ứng\n",
    "image_path = os.path.join(image_dir, image_files[0])\n",
    "json_path = os.path.join(annotation_dir, json_files[0])\n",
    "\n",
    "img = load_and_preprocess_image(image_path)\n",
    "mask = create_mask_from_json(json_path)\n",
    "\n",
    "plt.figure(figsize=(6, 3))\n",
    "plt.subplot(1, 2, 1)\n",
    "plt.imshow(img.squeeze(), cmap='gray')\n",
    "plt.title('Hình ảnh X-quang')\n",
    "\n",
    "plt.subplot(1, 2, 2)\n",
    "plt.imshow(mask, cmap='gray')\n",
    "plt.title('Mask Khối U')\n",
    "plt.show()\n"
   ]
  },
  {
   "cell_type": "markdown",
   "id": "49a4de65",
   "metadata": {
    "papermill": {
     "duration": null,
     "end_time": null,
     "exception": null,
     "start_time": null,
     "status": "pending"
    },
    "tags": []
   },
   "source": [
    "# **Tiền xử lý dữ liệu (2)**"
   ]
  },
  {
   "cell_type": "code",
   "execution_count": null,
   "id": "e8eb8032",
   "metadata": {
    "execution": {
     "iopub.execute_input": "2025-02-25T14:11:39.260593Z",
     "iopub.status.busy": "2025-02-25T14:11:39.260143Z",
     "iopub.status.idle": "2025-02-25T14:11:39.300723Z",
     "shell.execute_reply": "2025-02-25T14:11:39.299447Z",
     "shell.execute_reply.started": "2025-02-25T14:11:39.260561Z"
    },
    "papermill": {
     "duration": null,
     "end_time": null,
     "exception": null,
     "start_time": null,
     "status": "pending"
    },
    "tags": []
   },
   "outputs": [],
   "source": [
    "# Ngan\n",
    "from tensorflow.keras.utils import to_categorical\n",
    "from sklearn.model_selection import train_test_split\n",
    "\n",
    "# Kiểm tra nếu labels đã là One-Hot Encoding hay chưa\n",
    "if labels.ndim > 1 and labels.shape[1] > 1:\n",
    "    print(\"Labels đã ở dạng One-Hot Encoding, bỏ qua LabelEncoder.\")\n",
    "else:\n",
    "    print(\"Labels ở dạng chuỗi hoặc chỉ số, tiến hành mã hóa.\")\n",
    "    # Mã hóa nhãn (Label Encoding) và sau đó One-Hot Encoding\n",
    "    from sklearn.preprocessing import LabelEncoder\n",
    "    label_encoder = LabelEncoder()\n",
    "    labels = label_encoder.fit_transform(labels)  # Chuyển về mảng 1D\n",
    "    labels = to_categorical(labels)  # Chuyển sang One-Hot Encoding\n",
    "\n",
    "# Chia tập dữ liệu thành train và test\n",
    "X_train, X_test, y_train, y_test = train_test_split(\n",
    "    images, labels, test_size=0.2, random_state=42, stratify=labels\n",
    ")\n",
    "\n",
    "print(f'Tập huấn luyện: {X_train.shape}, Tập kiểm tra: {X_test.shape}')\n"
   ]
  },
  {
   "cell_type": "code",
   "execution_count": null,
   "id": "7c1282d3",
   "metadata": {
    "execution": {
     "iopub.execute_input": "2025-02-25T14:23:02.789927Z",
     "iopub.status.busy": "2025-02-25T14:23:02.789539Z",
     "iopub.status.idle": "2025-02-25T14:23:02.829626Z",
     "shell.execute_reply": "2025-02-25T14:23:02.828042Z",
     "shell.execute_reply.started": "2025-02-25T14:23:02.789898Z"
    },
    "papermill": {
     "duration": null,
     "end_time": null,
     "exception": null,
     "start_time": null,
     "status": "pending"
    },
    "tags": []
   },
   "outputs": [],
   "source": [
    "# Ngan\n",
    "import numpy as np\n",
    "import cv2\n",
    "import os\n",
    "import matplotlib.pyplot as plt\n",
    "\n",
    "from sklearn.model_selection import train_test_split\n",
    "from sklearn.preprocessing import LabelEncoder\n",
    "from tensorflow.keras.utils import to_categorical\n",
    "from tensorflow.keras.models import Sequential\n",
    "from tensorflow.keras.layers import Conv2D, MaxPooling2D, Flatten, Dense, Dropout\n",
    "from tensorflow.keras.callbacks import EarlyStopping, ModelCheckpoint\n",
    "\n",
    "# 1. Đọc dữ liệu và tiền xử lý\n",
    "image_dir = '/kaggle/input/btxrd-data/BTXRD/'\n",
    "labels = []\n",
    "images = []\n",
    "\n",
    "# Đọc tất cả các ảnh và nhãn từ thư mục\n",
    "for label_folder in os.listdir(image_dir):\n",
    "    folder_path = os.path.join(image_dir, label_folder)\n",
    "    if not os.path.isdir(folder_path):\n",
    "        continue\n",
    "    \n",
    "    for image_name in os.listdir(folder_path):\n",
    "        image_path = os.path.join(folder_path, image_name)\n",
    "        image = cv2.imread(image_path)\n",
    "        image = cv2.resize(image, (224, 224))  # Resize ảnh về cùng kích thước\n",
    "        images.append(image)\n",
    "        labels.append(label_folder)  # Lấy tên thư mục làm nhãn\n",
    "\n",
    "# Chuyển đổi dữ liệu về numpy array\n",
    "images = np.array(images) / 255.0  # Chuẩn hóa pixel [0, 1]\n",
    "labels = np.array(labels)\n",
    "\n",
    "# Mã hóa nhãn và One-Hot Encoding\n",
    "label_encoder = LabelEncoder()\n",
    "labels = label_encoder.fit_transform(labels)  # Mã hóa nhãn thành số\n",
    "labels = to_categorical(labels)  # One-hot encoding\n",
    "\n",
    "# Chia tập dữ liệu thành train và test\n",
    "X_train, X_test, y_train, y_test = train_test_split(\n",
    "    images, labels, test_size=0.2, random_state=42, stratify=labels\n",
    ")\n",
    "\n",
    "print(f'Tập huấn luyện: {X_train.shape}, Tập kiểm tra: {X_test.shape}')\n",
    "\n",
    "# 2. Xây dựng mô hình CNN\n",
    "model = Sequential([\n",
    "    Conv2D(32, (3, 3), activation='relu', input_shape=(224, 224, 3)),\n",
    "    MaxPooling2D((2, 2)),\n",
    "    \n",
    "    Conv2D(64, (3, 3), activation='relu'),\n",
    "    MaxPooling2D((2, 2)),\n",
    "    \n",
    "    Conv2D(128, (3, 3), activation='relu'),\n",
    "    MaxPooling2D((2, 2)),\n",
    "    \n",
    "    Flatten(),\n",
    "    Dense(128, activation='relu'),\n",
    "    Dropout(0.5),\n",
    "    Dense(2, activation='softmax')  # 2 lớp đầu ra: \"Normal\" và \"Tumor\"\n",
    "])\n",
    "\n",
    "model.compile(optimizer='adam', loss='categorical_crossentropy', metrics=['accuracy'])\n",
    "model.summary()\n",
    "\n",
    "# 3. Huấn luyện mô hình\n",
    "callbacks = [\n",
    "    EarlyStopping(monitor='val_loss', patience=5, restore_best_weights=True),\n",
    "    ModelCheckpoint('best_model.h5', save_best_only=True)\n",
    "]\n",
    "\n",
    "history = model.fit(\n",
    "    X_train, y_train,\n",
    "    validation_data=(X_test, y_test),\n",
    "    epochs=20,\n",
    "    batch_size=32,\n",
    "    callbacks=callbacks\n",
    ")\n",
    "\n",
    "# 4. Đánh giá mô hình\n",
    "test_loss, test_accuracy = model.evaluate(X_test, y_test)\n",
    "print(f'Độ chính xác trên tập kiểm tra: {test_accuracy * 100:.2f}%')\n",
    "\n",
    "# 5. Dự đoán với ảnh mới\n",
    "def predict_image(image_path, model, label_encoder):\n",
    "    image = cv2.imread(image_path)\n",
    "    image = cv2.resize(image, (224, 224))\n",
    "    image = image / 255.0\n",
    "    image = np.expand_dims(image, axis=0)\n",
    "\n",
    "    prediction = model.predict(image)\n",
    "    predicted_label = label_encoder.inverse_transform([np.argmax(prediction)])\n",
    "    confidence_score = np.max(prediction) * 100\n",
    "\n",
    "    plt.imshow(cv2.cvtColor(cv2.imread(image_path), cv2.COLOR_BGR2RGB))\n",
    "    plt.title(f'Dự đoán: {predicted_label[0]} ({confidence_score:.2f}%)')\n",
    "    plt.axis('off')\n",
    "    plt.show()\n",
    "\n",
    "# Ví dụ dự đoán một ảnh mới\n",
    "predict_image('/kaggle/input/btxrd-data/BTXRD/images/IMG000001.jpeg', model, label_encoder)\n"
   ]
  },
  {
   "cell_type": "markdown",
   "id": "66491fb1",
   "metadata": {
    "papermill": {
     "duration": null,
     "end_time": null,
     "exception": null,
     "start_time": null,
     "status": "pending"
    },
    "tags": []
   },
   "source": [
    "# **Xây dựng mô hình**"
   ]
  },
  {
   "cell_type": "code",
   "execution_count": null,
   "id": "4046d113",
   "metadata": {
    "execution": {
     "iopub.execute_input": "2025-02-25T13:48:02.324571Z",
     "iopub.status.busy": "2025-02-25T13:48:02.324199Z",
     "iopub.status.idle": "2025-02-25T13:48:02.466516Z",
     "shell.execute_reply": "2025-02-25T13:48:02.465376Z",
     "shell.execute_reply.started": "2025-02-25T13:48:02.324543Z"
    },
    "papermill": {
     "duration": null,
     "end_time": null,
     "exception": null,
     "start_time": null,
     "status": "pending"
    },
    "tags": []
   },
   "outputs": [],
   "source": [
    "# Ngan\n",
    "from tensorflow.keras import layers, models\n",
    "\n",
    "def build_unet_model(input_shape=(224, 224, 1)):\n",
    "    inputs = layers.Input(input_shape)\n",
    "\n",
    "    # Encoder\n",
    "    c1 = layers.Conv2D(32, (3, 3), activation='relu', padding='same')(inputs)\n",
    "    p1 = layers.MaxPooling2D((2, 2))(c1)\n",
    "\n",
    "    # Attention cơ bản (ví dụ minh họa)\n",
    "    attention = layers.Conv2D(32, (1, 1), activation='sigmoid')(p1)\n",
    "    p1 = layers.multiply([p1, attention])\n",
    "\n",
    "    # Decoder\n",
    "    u1 = layers.Conv2DTranspose(32, (3, 3), strides=(2, 2), padding='same')(p1)\n",
    "    u1 = layers.concatenate([u1, c1])\n",
    "    outputs = layers.Conv2D(1, (1, 1), activation='sigmoid')(u1)\n",
    "\n",
    "    model = models.Model(inputs, outputs)\n",
    "    model.compile(optimizer='adam', loss='binary_crossentropy', metrics=['accuracy'])\n",
    "    return model\n",
    "\n",
    "model = build_unet_model()\n",
    "model.summary()\n"
   ]
  },
  {
   "cell_type": "markdown",
   "id": "04394caf",
   "metadata": {
    "papermill": {
     "duration": null,
     "end_time": null,
     "exception": null,
     "start_time": null,
     "status": "pending"
    },
    "tags": []
   },
   "source": [
    "# **Đánh giá mô hình**"
   ]
  },
  {
   "cell_type": "code",
   "execution_count": null,
   "id": "36742e5c",
   "metadata": {
    "execution": {
     "iopub.execute_input": "2025-02-25T13:48:16.983151Z",
     "iopub.status.busy": "2025-02-25T13:48:16.982824Z",
     "iopub.status.idle": "2025-02-25T13:48:17.221519Z",
     "shell.execute_reply": "2025-02-25T13:48:17.220078Z",
     "shell.execute_reply.started": "2025-02-25T13:48:16.983128Z"
    },
    "papermill": {
     "duration": null,
     "end_time": null,
     "exception": null,
     "start_time": null,
     "status": "pending"
    },
    "tags": []
   },
   "outputs": [],
   "source": [
    "# Ngan\n",
    "from sklearn.metrics import classification_report, confusion_matrix\n",
    "import seaborn as sns\n",
    "\n",
    "# Giả sử y_true và y_pred là nhãn thực tế và dự đoán\n",
    "y_true = [0, 1, 0, 1, 1]  # ví dụ\n",
    "y_pred = [0, 1, 0, 0, 1]  # ví dụ\n",
    "\n",
    "print(classification_report(y_true, y_pred))\n",
    "\n",
    "# Ma trận nhầm lẫn\n",
    "cm = confusion_matrix(y_true, y_pred)\n",
    "sns.heatmap(cm, annot=True, fmt='d', cmap='Blues')\n",
    "plt.xlabel('Dự đoán')\n",
    "plt.ylabel('Thực tế')\n",
    "plt.show()\n"
   ]
  }
 ],
 "metadata": {
  "kaggle": {
   "accelerator": "none",
   "dataSources": [
    {
     "datasetId": 6711261,
     "sourceId": 10811164,
     "sourceType": "datasetVersion"
    }
   ],
   "dockerImageVersionId": 30918,
   "isGpuEnabled": false,
   "isInternetEnabled": false,
   "language": "python",
   "sourceType": "notebook"
  },
  "kernelspec": {
   "display_name": "base",
   "language": "python",
   "name": "python3"
  },
  "language_info": {
   "codemirror_mode": {
    "name": "ipython",
    "version": 3
   },
   "file_extension": ".py",
   "mimetype": "text/x-python",
   "name": "python",
   "nbconvert_exporter": "python",
   "pygments_lexer": "ipython3",
   "version": "3.12.4"
  },
  "papermill": {
   "default_parameters": {},
   "duration": 43.639507,
   "end_time": "2025-03-06T16:02:11.287136",
   "environment_variables": {},
   "exception": true,
   "input_path": "__notebook__.ipynb",
   "output_path": "__notebook__.ipynb",
   "parameters": {},
   "start_time": "2025-03-06T16:01:27.647629",
   "version": "2.6.0"
  }
 },
 "nbformat": 4,
 "nbformat_minor": 5
}
